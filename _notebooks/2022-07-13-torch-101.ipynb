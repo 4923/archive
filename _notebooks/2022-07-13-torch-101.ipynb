{
 "cells": [
  {
   "cell_type": "markdown",
   "metadata": {},
   "source": [
    "<!-- front matter -->\n",
    "<!-- https://fastpages.fast.ai/jupyter/2020/02/20/test.html -->\n",
    "\n",
    "# PyTorch 101\n",
    "> [공식 한국 사용자 모임](https://pytorch.kr/?_gl=1*lm4zb1*_ga*NTAzNjE1NTg0LjE2NTcwODI5NTU.*_ga_LZRD6GXDLF*MTY1NzY4ODU2OS41LjAuMTY1NzY4ODU2OS42MA..) 의 tutorial 정리\n",
    "- toc: true\n",
    "- branch: master\n",
    "- badges: true\n",
    "- comments: true\n",
    "- categories: [jupyter]\n",
    "- image: images/chart-preview.png"
   ]
  },
  {
   "cell_type": "markdown",
   "metadata": {},
   "source": [
    "### Tensor\n",
    "\n",
    "- 배열 array 또는 행렬 matrix 과 유사한 특수 자료구조\n",
    "- 모델의 입출력 및 매개변수 부호화를 진행\n",
    "- numpy의 ndarray와 유사: NumPy 배열로 생성할 수 있음\n",
    "    - NumPy 변환 (Bridge)"
   ]
  },
  {
   "cell_type": "code",
   "execution_count": 1,
   "metadata": {},
   "outputs": [
    {
     "name": "stderr",
     "output_type": "stream",
     "text": [
      "/opt/homebrew/Caskroom/miniforge/base/envs/cv-py38/lib/python3.8/site-packages/tqdm/auto.py:22: TqdmWarning: IProgress not found. Please update jupyter and ipywidgets. See https://ipywidgets.readthedocs.io/en/stable/user_install.html\n",
      "  from .autonotebook import tqdm as notebook_tqdm\n"
     ]
    }
   ],
   "source": [
    "#collapse-hide\n",
    "\n",
    "# import libraries\n",
    "# basic tools\n",
    "import numpy as np\n",
    "import pandas as pd\n",
    "\n",
    "# torch\n",
    "import torch\n",
    "from torch.utils.data import Dataset"
   ]
  },
  {
   "cell_type": "markdown",
   "metadata": {},
   "source": [
    "### Dataset\n",
    "\n",
    "> Tip: 가독성 (readability) 과 모듈성 (modularity) 을 위해 *데이터셋 코드는 모델 학습 코드로부터 분리하는것이 이상적이다.* : Dataset Class를 따로 정의"
   ]
  },
  {
   "cell_type": "code",
   "execution_count": 2,
   "metadata": {},
   "outputs": [],
   "source": [
    "#collapse-show\n",
    "\n",
    "# Dataset Class는 3가지 함수를 구현해야한다.\n",
    "# `__init__`, `__len__`, `__getitem__`\n",
    "\n",
    "class ImageDataset(Dataset):\n",
    "    # Dataset 객체 생성시 *한 번*만 호출되는 함수\n",
    "    # 변형을 초기화한다.\n",
    "    def __init__(self, annotation_file, img_dir, transform=None, target_transform=None):\n",
    "        self.img_labels = pd.read_csv(annotation_file, names=['file_name', 'label'])    \n",
    "        self.img_dir = img_dir\n",
    "        self.transform = transform\n",
    "        self.target_transform = target_transform"
   ]
  },
  {
   "cell_type": "code",
   "execution_count": null,
   "metadata": {},
   "outputs": [],
   "source": []
  }
 ],
 "metadata": {
  "kernelspec": {
   "display_name": "Python 3.8.13 ('cv-py38')",
   "language": "python",
   "name": "python3"
  },
  "language_info": {
   "codemirror_mode": {
    "name": "ipython",
    "version": 3
   },
   "file_extension": ".py",
   "mimetype": "text/x-python",
   "name": "python",
   "nbconvert_exporter": "python",
   "pygments_lexer": "ipython3",
   "version": "3.8.13"
  },
  "orig_nbformat": 4,
  "vscode": {
   "interpreter": {
    "hash": "abed52475ed3bc7fd4b3a08ba8fb8e39988a48d39d6838c1be2ad28d8cd28fcd"
   }
  }
 },
 "nbformat": 4,
 "nbformat_minor": 2
}
