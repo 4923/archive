{
 "cells": [
  {
   "attachments": {},
   "cell_type": "markdown",
   "metadata": {},
   "source": [
    "---\n",
    "title-block-banner: true\n",
    "title: How to read a paper\n",
    "\n",
    "subtitle: S. Keshav, University of Waterloo\n",
    "description: 논문을 읽는 방법에 대하여\n",
    "\n",
    "categories:\n",
    "    - tutorial\n",
    "    - theory\n",
    "    - research\n",
    "---"
   ]
  },
  {
   "cell_type": "markdown",
   "metadata": {},
   "source": [
    "처음부터 정독하며 필요한 부분을 발췌 혹은 해설한다."
   ]
  },
  {
   "cell_type": "markdown",
   "metadata": {},
   "source": [
    "- General Terms: Documentation\n",
    "- Keywords: Paper, Reading, Hints"
   ]
  },
  {
   "cell_type": "markdown",
   "metadata": {},
   "source": [
    "### Abstract"
   ]
  },
  {
   "cell_type": "markdown",
   "metadata": {},
   "source": [
    "연구자들이 논문을 읽는데 사용하는 시간에 비하여 그것을 읽는 방법은 충분히 가르쳐지지 않고 있으며 이는 상당한 손실을 야기한다. 본 논문은 논문을 읽을 때에 실용적이고 효과적인 `three-pass method` 개요를 서술할 것이며 포괄적 문헌 조사 (literature survey)에서 이를 어떻게 사용하는지 보이려 한다."
   ]
  },
  {
   "cell_type": "markdown",
   "metadata": {},
   "source": []
  }
 ],
 "metadata": {
  "kernelspec": {
   "display_name": "hypergraph-py38",
   "language": "python",
   "name": "python3"
  },
  "language_info": {
   "name": "python",
   "version": "3.8.16"
  },
  "orig_nbformat": 4
 },
 "nbformat": 4,
 "nbformat_minor": 2
}
