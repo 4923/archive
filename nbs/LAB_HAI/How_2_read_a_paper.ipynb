{
 "cells": [
  {
   "attachments": {},
   "cell_type": "markdown",
   "metadata": {},
   "source": [
    "---\n",
    "title: How to read a paper\n",
    "subtitle: S. Keshav, University of Waterloo\n",
    "description: 논문을 읽는 방법에 대하여\n",
    "categories:\n",
    "    - tutorial\n",
    "    - theory\n",
    "    - research\n",
    "---"
   ]
  },
  {
   "cell_type": "markdown",
   "metadata": {},
   "source": [
    "처음부터 정독하며 필요한 부분을 발췌 혹은 해설한다."
   ]
  },
  {
   "cell_type": "markdown",
   "metadata": {},
   "source": []
  }
 ],
 "metadata": {
  "kernelspec": {
   "display_name": "hypergraph-py38",
   "language": "python",
   "name": "python3"
  },
  "language_info": {
   "name": "python",
   "version": "3.8.16"
  },
  "orig_nbformat": 4
 },
 "nbformat": 4,
 "nbformat_minor": 2
}
