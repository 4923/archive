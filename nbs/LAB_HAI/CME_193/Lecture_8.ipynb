{
  "cells": [
    {
      "cell_type": "markdown",
      "metadata": {},
      "source": [
        "---\n",
        "title-block-banner: true\n",
        "title: \"CME 193 - Lecture 8\"\n",
        "subtitle: \"PyTorch / [cme193.stanford.edu](http://cme193.stanford.edu).\"\n",
        "description: deep learning with PyTorch\n",
        "categories:\n",
        "    - tutorial\n",
        "    - theory\n",
        "    - Python\n",
        "---"
      ]
    },
    {
      "cell_type": "markdown",
      "metadata": {
        "id": "dSwa4PjRfO0a"
      },
      "source": [
        "# Lecture 8 - PyTorch\n",
        "\n",
        "This will be the final lecture, today we will first have a brief introduction of deep learning, then we will look at some basics of using PyTorch to implement some simple models in deep learning.\n",
        "\n"
      ]
    },
    {
      "cell_type": "markdown",
      "metadata": {
        "id": "h5yhehDbfO0e"
      },
      "source": [
        "## Deep Learning Libraries\n",
        "\n",
        "There are many deep learning libraries available, the most common ones for python are\n",
        "\n",
        "- TensorFlow, Keras\n",
        "- PyTorch\n",
        "\n",
        "Working with tensorflow requires going into lot of details of the contruction of the computation graph, whereas Keras is a higher level interface for tensorflow. Tensorflow is very popular in the industry and good for production code.\n",
        "\n",
        "PyTorch can be used as low level interface, but is much more user-friendly than tensorflow, but it also has a higher level interface. Pytorch is more popular in the research community."
      ]
    },
    {
      "cell_type": "markdown",
      "metadata": {
        "id": "pLxKTWL8fO0e"
      },
      "source": [
        "## Main features that any deep learning library should provide\n",
        "\n",
        "No matter what library or language you use, the main features provided by a deep learning library are\n",
        "1. Use the GPU to speed up computation\n",
        "2. Ability to do automatic differentiation\n",
        "3. Useful library functions for common architectures and optimization algorithms\n",
        "\n",
        "### PyTorch\n",
        "We will look at all of the above in pytorch.\n",
        "The best way to think about pytorch is that its numpy + GPU + autograd.\n",
        "\n",
        "You can install it with\n",
        "\n",
        "```conda install pytorch```"
      ]
    },
    {
      "cell_type": "code",
      "execution_count": null,
      "metadata": {
        "id": "SJyNeMkNfO0f"
      },
      "outputs": [],
      "source": [
        "import torch"
      ]
    },
    {
      "cell_type": "markdown",
      "metadata": {
        "id": "nDcwRFn5fO0g"
      },
      "source": [
        "The equivalent object to numpy arrays in pytorch are called tensors, but they are just multidimensional arrays."
      ]
    },
    {
      "cell_type": "code",
      "execution_count": null,
      "metadata": {
        "id": "cr2oicf4fO0g"
      },
      "outputs": [],
      "source": [
        "torch.tensor([2,3,4,5])"
      ]
    },
    {
      "cell_type": "code",
      "execution_count": null,
      "metadata": {
        "id": "jEqQ8Id5fO0g"
      },
      "outputs": [],
      "source": [
        "torch.zeros((5,5))"
      ]
    },
    {
      "cell_type": "code",
      "execution_count": null,
      "metadata": {
        "id": "c-ZO58PrfO0h"
      },
      "outputs": [],
      "source": [
        "x = torch.ones((5,5))\n",
        "x"
      ]
    },
    {
      "cell_type": "code",
      "execution_count": null,
      "metadata": {
        "id": "r_QyqzZWfO0h"
      },
      "outputs": [],
      "source": [
        "2*x + 5"
      ]
    },
    {
      "cell_type": "code",
      "execution_count": null,
      "metadata": {
        "id": "rSCcGFOwfO0h"
      },
      "outputs": [],
      "source": [
        "torch.rand(5,5)"
      ]
    },
    {
      "cell_type": "code",
      "execution_count": null,
      "metadata": {
        "id": "wgSu0y9FfO0h"
      },
      "outputs": [],
      "source": [
        "x = torch.rand(25)\n",
        "x"
      ]
    },
    {
      "cell_type": "code",
      "execution_count": null,
      "metadata": {
        "id": "hOz1fyIQfO0i"
      },
      "outputs": [],
      "source": [
        "x=x.reshape(-1,5)\n",
        "x"
      ]
    },
    {
      "cell_type": "code",
      "execution_count": null,
      "metadata": {
        "id": "e67lOB_9fO0i"
      },
      "outputs": [],
      "source": [
        "x.shape"
      ]
    },
    {
      "cell_type": "code",
      "execution_count": null,
      "metadata": {
        "id": "SkfgFVcOfO0i"
      },
      "outputs": [],
      "source": [
        "print(torch.arange(10))\n",
        "print(torch.eye(5))\n",
        "print(torch.linspace(0,1,10))"
      ]
    },
    {
      "cell_type": "markdown",
      "metadata": {
        "id": "UrivfqqrfO0i"
      },
      "source": [
        "Some functions are a bit different"
      ]
    },
    {
      "cell_type": "code",
      "execution_count": null,
      "metadata": {
        "id": "JciGCBGSfO0i"
      },
      "outputs": [],
      "source": [
        "A = torch.rand(5,5)\n",
        "x = torch.ones(5,1)\n",
        "A@x"
      ]
    },
    {
      "cell_type": "code",
      "execution_count": null,
      "metadata": {
        "id": "3DidjajUfO0i"
      },
      "outputs": [],
      "source": [
        "import numpy as np\n",
        "A = np.random.rand(5,5)\n",
        "x = np.ones((5,1))\n",
        "A@x"
      ]
    },
    {
      "cell_type": "markdown",
      "metadata": {
        "id": "W1IW_U4afO0i"
      },
      "source": [
        "You can convert tensors to a numpy array that shares its memory with the pytorch tensor"
      ]
    },
    {
      "cell_type": "code",
      "execution_count": null,
      "metadata": {
        "id": "oH3-tt8QfO0i"
      },
      "outputs": [],
      "source": [
        "x = torch.ones(5,5)\n",
        "x"
      ]
    },
    {
      "cell_type": "code",
      "execution_count": null,
      "metadata": {
        "id": "VHehTH-PfO0i"
      },
      "outputs": [],
      "source": [
        "xn = x.numpy()\n",
        "xn"
      ]
    },
    {
      "cell_type": "code",
      "execution_count": null,
      "metadata": {
        "id": "LCuc-RPhfO0i"
      },
      "outputs": [],
      "source": [
        "xn[4,2]=10\n",
        "xn"
      ]
    },
    {
      "cell_type": "code",
      "execution_count": null,
      "metadata": {
        "id": "jTuMIxqFfO0i"
      },
      "outputs": [],
      "source": [
        "x"
      ]
    },
    {
      "cell_type": "markdown",
      "metadata": {
        "id": "zmODmrG1fO0j"
      },
      "source": [
        "### Using the GPU\n",
        "\n",
        "The GPU (Graphical Processing Unit) is a separate processing unit that is specialized to handle bulk computations required for rendering high quality graphics. It mainly consists of a large number of processor cores that are individually very slow, but because of their sheer number (around 2000) they can churn through computations very quickly."
      ]
    },
    {
      "cell_type": "code",
      "execution_count": null,
      "metadata": {
        "id": "2bE-0KcBfO0j"
      },
      "outputs": [],
      "source": [
        "import torch\n",
        "torch.cuda.is_available()"
      ]
    },
    {
      "cell_type": "markdown",
      "metadata": {
        "id": "C-irOFr1fO0j"
      },
      "source": [
        "Installing the GPU drivers and the CUDA toolkit can be quite messy, so if you just want to experiment with GPUs and deep learning libraries, you can use [Google colaboratory](https://colab.research.google.com/)"
      ]
    },
    {
      "cell_type": "code",
      "execution_count": null,
      "metadata": {
        "id": "kMq-AHyCfO0j"
      },
      "outputs": [],
      "source": [
        "gpu = torch.device(\"cuda\")\n",
        "cpu = torch.device(\"cpu\")"
      ]
    },
    {
      "cell_type": "code",
      "execution_count": null,
      "metadata": {
        "id": "BV4jzj8PfO0j"
      },
      "outputs": [],
      "source": [
        "A = torch.rand(100,100)\n",
        "B = torch.rand(100,100)"
      ]
    },
    {
      "cell_type": "code",
      "execution_count": null,
      "metadata": {
        "id": "CvXFeAqbfO0j"
      },
      "outputs": [],
      "source": [
        "A@B"
      ]
    },
    {
      "cell_type": "code",
      "execution_count": null,
      "metadata": {
        "id": "gKg5Z2VnfO0j"
      },
      "outputs": [],
      "source": [
        "A_gpu = A.to(gpu)\n",
        "B_gpu = B.to(gpu)"
      ]
    },
    {
      "cell_type": "code",
      "execution_count": null,
      "metadata": {
        "id": "hPuV6h95fO0j"
      },
      "outputs": [],
      "source": [
        "A_gpu@B_gpu"
      ]
    },
    {
      "cell_type": "code",
      "execution_count": null,
      "metadata": {
        "id": "hyo7df-BfO0j"
      },
      "outputs": [],
      "source": [
        "A@B_gpu"
      ]
    },
    {
      "cell_type": "code",
      "execution_count": null,
      "metadata": {
        "id": "kpdr5VepfO0j"
      },
      "outputs": [],
      "source": [
        "C_gpu = A_gpu@B_gpu\n",
        "C = C_gpu.to(cpu)\n",
        "C"
      ]
    },
    {
      "cell_type": "markdown",
      "metadata": {
        "id": "Dwt5NxblfO0j"
      },
      "source": [
        "### GPU - CPU memory transfer"
      ]
    },
    {
      "cell_type": "code",
      "execution_count": null,
      "metadata": {
        "id": "N-1eNmzQfO0j"
      },
      "outputs": [],
      "source": [
        "big_mat = torch.rand(20000,20000);"
      ]
    },
    {
      "cell_type": "code",
      "execution_count": null,
      "metadata": {
        "id": "gKMqtIxhfO0j"
      },
      "outputs": [],
      "source": [
        "big_mat_gpu = big_mat.to(gpu)"
      ]
    },
    {
      "cell_type": "code",
      "execution_count": null,
      "metadata": {
        "id": "3TZVYbnCfO0j"
      },
      "outputs": [],
      "source": [
        "big_mat= big_mat_gpu.to(cpu)"
      ]
    },
    {
      "cell_type": "code",
      "execution_count": null,
      "metadata": {
        "id": "poSh2LPufO0j"
      },
      "outputs": [],
      "source": [
        "del big_mat_gpu\n",
        "torch.cuda.empty_cache()"
      ]
    },
    {
      "cell_type": "code",
      "execution_count": null,
      "metadata": {
        "id": "O3FG81_2fO0j"
      },
      "outputs": [],
      "source": [
        "del big_mat"
      ]
    },
    {
      "cell_type": "markdown",
      "metadata": {
        "id": "_7jOG1_dfO0k"
      },
      "source": [
        "## Speedup from GPU"
      ]
    },
    {
      "cell_type": "code",
      "execution_count": null,
      "metadata": {
        "id": "fEySpyCffO0o"
      },
      "outputs": [],
      "source": [
        "%%timeit\n",
        "A = torch.rand(3000,3000)\n",
        "B = torch.rand(3000,3000)\n",
        "C = torch.zeros(3000,3000)\n",
        "C.copy_(B)\n",
        "for i in range(5):\n",
        "    C=torch.mm(A,C)"
      ]
    },
    {
      "cell_type": "code",
      "execution_count": null,
      "metadata": {
        "id": "wUgR4--wfO0o"
      },
      "outputs": [],
      "source": [
        "%%timeit\n",
        "A = torch.rand(3000,3000, device = gpu)\n",
        "B = torch.rand(3000,3000, device = gpu)\n",
        "C = torch.zeros(3000,3000, device = gpu)\n",
        "C.copy_(B)\n",
        "for i in range(5):\n",
        "    C=torch.mm(A,C)"
      ]
    },
    {
      "cell_type": "markdown",
      "metadata": {
        "id": "A8vAwOvBfO0p"
      },
      "source": [
        "## Automatic Differentiation\n",
        "\n",
        "PyTorch uses dynamic computation graphs to compute the gradients of the parameters."
      ]
    },
    {
      "cell_type": "code",
      "execution_count": null,
      "metadata": {
        "id": "V_GAfoA-fO0p"
      },
      "outputs": [],
      "source": [
        "x = torch.tensor([2.0])\n",
        "m = torch.tensor([5.0], requires_grad = True)\n",
        "c = torch.tensor([2.0], requires_grad = True)"
      ]
    },
    {
      "cell_type": "code",
      "execution_count": null,
      "metadata": {
        "id": "VHcTi8rKfO0p"
      },
      "outputs": [],
      "source": [
        "y = m*x + c\n",
        "y"
      ]
    },
    {
      "cell_type": "markdown",
      "metadata": {
        "id": "3_6keLIlfO0p"
      },
      "source": [
        "Define an error for your function"
      ]
    },
    {
      "cell_type": "code",
      "execution_count": null,
      "metadata": {
        "id": "C72TAMcQfO0p"
      },
      "outputs": [],
      "source": [
        "loss = torch.norm( y - 13)\n",
        "loss"
      ]
    },
    {
      "cell_type": "code",
      "execution_count": null,
      "metadata": {
        "id": "t-Kjp9hvfO0p"
      },
      "outputs": [],
      "source": [
        "m.grad"
      ]
    },
    {
      "cell_type": "markdown",
      "metadata": {
        "id": "Is4OcIEbfO0p"
      },
      "source": [
        "Calling `x.backward()` on any tensor forces pytorch to compute all the gradients of the tensors used to compute `x` which had the `requires_grad` flag set to `True`. The computed gradient will be stored in the `.grad` property of the tensors"
      ]
    },
    {
      "cell_type": "code",
      "execution_count": null,
      "metadata": {
        "id": "e9aFkNMkfO0p"
      },
      "outputs": [],
      "source": [
        "loss.backward()"
      ]
    },
    {
      "cell_type": "code",
      "execution_count": null,
      "metadata": {
        "id": "JZWjaUtEfO0p"
      },
      "outputs": [],
      "source": [
        "m.grad"
      ]
    },
    {
      "cell_type": "code",
      "execution_count": null,
      "metadata": {
        "id": "OAwTbvYFfO0p"
      },
      "outputs": [],
      "source": [
        "c.grad"
      ]
    },
    {
      "cell_type": "code",
      "execution_count": null,
      "metadata": {
        "id": "oRdZ8NZ4fO0p"
      },
      "outputs": [],
      "source": [
        "with torch.no_grad():\n",
        "    m -= 0.01 * m.grad\n",
        "    c -= 0.01 * c.grad"
      ]
    },
    {
      "cell_type": "code",
      "execution_count": null,
      "metadata": {
        "id": "Lp30gPMOfO0p"
      },
      "outputs": [],
      "source": [
        "m,c"
      ]
    },
    {
      "cell_type": "code",
      "execution_count": null,
      "metadata": {
        "id": "Sf1gfywmfO0p"
      },
      "outputs": [],
      "source": [
        "m.grad, c.grad"
      ]
    },
    {
      "cell_type": "code",
      "execution_count": null,
      "metadata": {
        "id": "VSIpI9WZfO0p"
      },
      "outputs": [],
      "source": [
        "m.grad.zero_()\n",
        "c.grad.zero_()\n",
        "\n",
        "m.grad, c.grad"
      ]
    },
    {
      "cell_type": "code",
      "execution_count": null,
      "metadata": {
        "id": "wOIPBlERfO0p"
      },
      "outputs": [],
      "source": [
        "y = m*x + c"
      ]
    },
    {
      "cell_type": "code",
      "execution_count": null,
      "metadata": {
        "id": "ATUnKWb2fO0q"
      },
      "outputs": [],
      "source": [
        "y"
      ]
    },
    {
      "cell_type": "code",
      "execution_count": null,
      "metadata": {
        "id": "1yJU1ZKvfO0q"
      },
      "outputs": [],
      "source": [
        "loss = torch.norm( y - 13)\n",
        "loss"
      ]
    },
    {
      "cell_type": "code",
      "execution_count": null,
      "metadata": {
        "id": "1BQRgKYTfO0q"
      },
      "outputs": [],
      "source": [
        "loss.backward()\n",
        "m.grad, c.grad"
      ]
    },
    {
      "cell_type": "markdown",
      "metadata": {
        "id": "ze8Cr21zfO0q"
      },
      "source": [
        "### Making it more compact"
      ]
    },
    {
      "cell_type": "code",
      "execution_count": null,
      "metadata": {
        "id": "fIlOW9FzfO0q"
      },
      "outputs": [],
      "source": [
        "def model_fn(x,m,c):\n",
        "    return m*x + c"
      ]
    },
    {
      "cell_type": "code",
      "execution_count": null,
      "metadata": {
        "id": "pBGIqan_fO0q"
      },
      "outputs": [],
      "source": [
        "def loss_fn(y,yt):\n",
        "    return torch.norm(y-yt)"
      ]
    },
    {
      "cell_type": "code",
      "execution_count": null,
      "metadata": {
        "id": "TY7tygNcfO0q"
      },
      "outputs": [],
      "source": [
        "m = torch.tensor([5.0], requires_grad = True)\n",
        "c = torch.tensor([2.0], requires_grad = True)"
      ]
    },
    {
      "cell_type": "code",
      "execution_count": null,
      "metadata": {
        "id": "DLR1RM_ifO0q"
      },
      "outputs": [],
      "source": [
        "x = torch.tensor([2.0])\n",
        "yt = torch.tensor([13.0])"
      ]
    },
    {
      "cell_type": "code",
      "execution_count": null,
      "metadata": {
        "id": "TMQI6JFvfO0q"
      },
      "outputs": [],
      "source": [
        "y = model_fn(x,m,c)\n",
        "loss = loss_fn(y,yt)\n",
        "loss.backward()\n",
        "with torch.no_grad():\n",
        "    m -= 0.05 * m.grad\n",
        "    c -= 0.05 * c.grad\n",
        "m.grad.zero_()\n",
        "c.grad.zero_()\n",
        "\n",
        "print( f\" m = {m}\\n c = {c}\\n y = {y}\\n loss = {loss}\")"
      ]
    },
    {
      "cell_type": "markdown",
      "metadata": {
        "id": "gHybZCupfO0q"
      },
      "source": [
        "### Slightly more complicated problem"
      ]
    },
    {
      "cell_type": "code",
      "execution_count": null,
      "metadata": {
        "id": "rDddAJwdfO0q"
      },
      "outputs": [],
      "source": [
        "import matplotlib.pyplot as plt"
      ]
    },
    {
      "cell_type": "code",
      "execution_count": null,
      "metadata": {
        "id": "nYmpZzO8fO0q"
      },
      "outputs": [],
      "source": [
        "def model_fn(x,m,c):\n",
        "    return m@x + c"
      ]
    },
    {
      "cell_type": "code",
      "execution_count": null,
      "metadata": {
        "id": "1BNbTAgGfO0r"
      },
      "outputs": [],
      "source": [
        "def loss_fn(y,yt):\n",
        "    return torch.norm(y-yt)"
      ]
    },
    {
      "cell_type": "code",
      "execution_count": null,
      "metadata": {
        "id": "ZXDUKzh9fO0r"
      },
      "outputs": [],
      "source": [
        "m = torch.rand((5,5), requires_grad = True)\n",
        "c = torch.ones((5,1), requires_grad = True)"
      ]
    },
    {
      "cell_type": "code",
      "execution_count": null,
      "metadata": {
        "id": "Xg31ZszxfO0r"
      },
      "outputs": [],
      "source": [
        "x = torch.randn(5,100)\n",
        "yt = torch.randn(1,100)\n",
        "losses = []"
      ]
    },
    {
      "cell_type": "code",
      "execution_count": null,
      "metadata": {
        "id": "VXYiMTY3fO0s"
      },
      "outputs": [],
      "source": [
        "y = model_fn(x,m,c)\n",
        "loss = loss_fn(y,yt)\n",
        "loss.backward()\n",
        "with torch.no_grad():\n",
        "    m -= 0.05 * m.grad\n",
        "    c -= 0.05 * c.grad\n",
        "m.grad.zero_()\n",
        "c.grad.zero_()\n",
        "\n",
        "losses+=[loss.item()]\n",
        "print( f\"loss = {loss}\")\n",
        "plt.plot(losses);"
      ]
    },
    {
      "cell_type": "markdown",
      "metadata": {
        "id": "jM9wNHdFfO0s"
      },
      "source": [
        "## Using Library functions"
      ]
    },
    {
      "cell_type": "code",
      "execution_count": null,
      "metadata": {
        "id": "EnTB-S_4fO0s"
      },
      "outputs": [],
      "source": [
        "model = torch.nn.Sequential(\n",
        "    torch.nn.Linear(5, 5),\n",
        "    torch.nn.ReLU(),\n",
        "    torch.nn.Linear(5, 5),\n",
        ")"
      ]
    },
    {
      "cell_type": "code",
      "execution_count": null,
      "metadata": {
        "id": "Dg1bTxQMfO0s"
      },
      "outputs": [],
      "source": [
        "list(model.parameters())"
      ]
    },
    {
      "cell_type": "code",
      "execution_count": null,
      "metadata": {
        "id": "-mxyiMwifO0s"
      },
      "outputs": [],
      "source": [
        "loss_fn = torch.nn.MSELoss(reduction='sum')"
      ]
    },
    {
      "cell_type": "code",
      "execution_count": null,
      "metadata": {
        "id": "0to-IsCofO0s"
      },
      "outputs": [],
      "source": [
        "x = torch.randn(100,5)\n",
        "yt = torch.randn(100,1)\n",
        "losses = []"
      ]
    },
    {
      "cell_type": "code",
      "execution_count": null,
      "metadata": {
        "id": "kPg8JG-bfO0s"
      },
      "outputs": [],
      "source": [
        "y = model(x)\n",
        "loss = loss_fn(y,yt)\n",
        "loss.backward()\n",
        "with torch.no_grad():\n",
        "    for param in model.parameters():\n",
        "        param = 0.1 * param.grad\n",
        "\n",
        "model.zero_grad()\n",
        "\n",
        "losses+=[loss.item()]\n",
        "print( f\"loss = {loss}\")\n",
        "plt.plot(losses);"
      ]
    },
    {
      "cell_type": "markdown",
      "metadata": {
        "id": "Vu49eMq2fO0s"
      },
      "source": [
        "Using the optim package"
      ]
    },
    {
      "cell_type": "code",
      "execution_count": null,
      "metadata": {
        "id": "3f6C9c65fO0s"
      },
      "outputs": [],
      "source": [
        "optimizer = torch.optim.Adam(model.parameters(), lr=0.03)"
      ]
    },
    {
      "cell_type": "code",
      "execution_count": null,
      "metadata": {
        "id": "BoYeMT_WfO0s"
      },
      "outputs": [],
      "source": [
        "y = model(x)\n",
        "loss = loss_fn(y,yt)\n",
        "loss.backward()\n",
        "\n",
        "optimizer.step()\n",
        "optimizer.zero_grad()\n",
        "\n",
        "losses+=[loss.item()]\n",
        "print( f\"loss = {loss}\")\n",
        "plt.plot(losses);"
      ]
    },
    {
      "cell_type": "markdown",
      "metadata": {
        "id": "K-IfMv5XfO0s"
      },
      "source": [
        "## MNIST Example"
      ]
    },
    {
      "cell_type": "code",
      "execution_count": null,
      "metadata": {
        "id": "xHwtCi1YfO0s"
      },
      "outputs": [],
      "source": [
        "from torchvision.datasets import MNIST"
      ]
    },
    {
      "cell_type": "code",
      "execution_count": null,
      "metadata": {
        "id": "dnQ5MX1ufO0s"
      },
      "outputs": [],
      "source": [
        "data = MNIST(\".\",download=True)"
      ]
    },
    {
      "cell_type": "code",
      "execution_count": null,
      "metadata": {
        "id": "qeM6isksfO0s"
      },
      "outputs": [],
      "source": [
        "img,y = data[2]"
      ]
    },
    {
      "cell_type": "code",
      "execution_count": null,
      "metadata": {
        "id": "GnantGYhfO0t"
      },
      "outputs": [],
      "source": [
        "img"
      ]
    },
    {
      "cell_type": "code",
      "execution_count": null,
      "metadata": {
        "id": "VY3zqgAnfO0t"
      },
      "outputs": [],
      "source": [
        "y"
      ]
    },
    {
      "cell_type": "code",
      "execution_count": null,
      "metadata": {
        "id": "pWQYmGhffO0t"
      },
      "outputs": [],
      "source": [
        "data.train_data[2].shape"
      ]
    },
    {
      "cell_type": "code",
      "execution_count": null,
      "metadata": {
        "id": "lEGBAq6kfO0t"
      },
      "outputs": [],
      "source": [
        "data.train_labels[2]"
      ]
    },
    {
      "cell_type": "markdown",
      "metadata": {
        "id": "WZEs9-3DfO0t"
      },
      "source": [
        "### MNIST Training"
      ]
    },
    {
      "cell_type": "code",
      "execution_count": null,
      "metadata": {
        "id": "4xjkRA__fO0t"
      },
      "outputs": [],
      "source": [
        "model = torch.nn.Sequential(\n",
        "    torch.nn.Linear(784, 100),\n",
        "    torch.nn.ReLU(),\n",
        "    torch.nn.Linear(100, 100),\n",
        "    torch.nn.ReLU(),\n",
        "    torch.nn.Linear(100, 10),\n",
        ")"
      ]
    },
    {
      "cell_type": "code",
      "execution_count": null,
      "metadata": {
        "id": "I-hFZhDLfO0t"
      },
      "outputs": [],
      "source": [
        "loss_fn = torch.nn.CrossEntropyLoss()"
      ]
    },
    {
      "cell_type": "code",
      "execution_count": null,
      "metadata": {
        "id": "K7g-P8V8fO0t"
      },
      "outputs": [],
      "source": [
        "sample = np.random.choice(range(len(data.train_data)),1000)\n",
        "x = data.train_data[sample].reshape(1000,-1).float()/255\n",
        "yt = data.train_labels[sample]"
      ]
    },
    {
      "cell_type": "code",
      "execution_count": null,
      "metadata": {
        "id": "A1OoK4FOfO0t"
      },
      "outputs": [],
      "source": [
        "optimizer = torch.optim.Adam(model.parameters(), lr=0.03)\n",
        "losses = []"
      ]
    },
    {
      "cell_type": "code",
      "execution_count": null,
      "metadata": {
        "id": "VSBDB-W9fO0t"
      },
      "outputs": [],
      "source": [
        "for i in range(100):\n",
        "    y = model(x)\n",
        "    loss = loss_fn(y,yt)\n",
        "    loss.backward()\n",
        "\n",
        "    optimizer.step()\n",
        "    optimizer.zero_grad()\n",
        "\n",
        "    losses+=[loss.item()]\n",
        "    print( f\"loss = {loss}\")\n",
        "plt.plot(losses);"
      ]
    },
    {
      "cell_type": "code",
      "execution_count": null,
      "metadata": {
        "id": "zQjHqXlQfO0t"
      },
      "outputs": [],
      "source": [
        "x_test = data.train_data[-1000:].reshape(1000,-1).float()/255\n",
        "y_test = data.train_labels[-1000:]"
      ]
    },
    {
      "cell_type": "code",
      "execution_count": null,
      "metadata": {
        "id": "XrpWu2JffO0t"
      },
      "outputs": [],
      "source": [
        "with torch.no_grad():\n",
        "    y_pred = model(x_test)"
      ]
    },
    {
      "cell_type": "code",
      "execution_count": null,
      "metadata": {
        "id": "sielskcufO0t"
      },
      "outputs": [],
      "source": [
        "print(\"Accuracy = \", (y_pred.argmax(dim=1) == y_test).sum().float().item()/1000.0)"
      ]
    },
    {
      "cell_type": "markdown",
      "metadata": {
        "id": "uozpy6CxfO0t"
      },
      "source": [
        "## Course Conclusion\n",
        "\n",
        "By now you should have a sufficient introduction to the various ways one can use python for scientific computing. The best way to learn more is to start using python for whatever project you are working on. Only practice will make you comfortable with using python.\n",
        "\n",
        "### Reminders\n",
        "    - Assignment 2 will be out today by 5PM, due on 12th Nov\n",
        "    - There will be no office hours today\n",
        "    - There will be office hours this Thursday and next week Tuesday and Thursday\n",
        "    - You can also email me and schedule office hours by appointment, if you cannot make it during the above times"
      ]
    },
    {
      "cell_type": "code",
      "execution_count": null,
      "metadata": {
        "id": "M8tUkSTgfO0t"
      },
      "outputs": [],
      "source": [
        "#"
      ]
    }
  ],
  "metadata": {
    "colab": {
      "provenance": []
    },
    "kernelspec": {
      "display_name": "PyTorch-GPU",
      "language": "python",
      "name": "pyt-gpu"
    },
    "language_info": {
      "codemirror_mode": {
        "name": "ipython",
        "version": 3
      },
      "file_extension": ".py",
      "mimetype": "text/x-python",
      "name": "python",
      "nbconvert_exporter": "python",
      "pygments_lexer": "ipython3",
      "version": "3.6.8"
    }
  },
  "nbformat": 4,
  "nbformat_minor": 0
}
