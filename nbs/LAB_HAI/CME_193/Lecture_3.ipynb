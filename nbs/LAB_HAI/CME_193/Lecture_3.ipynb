{
  "cells": [
    {
      "cell_type": "markdown",
      "metadata": {},
      "source": [
        "---\n",
        "title-block-banner: true\n",
        "title: \"CME 193 - Lecture 3\"\n",
        "subtitle: \"Introduction to Scientific Python / [cme193.stanford.edu](http://cme193.stanford.edu).\"\n",
        "description: Numpy Assignment\n",
        "categories:\n",
        "    - tutorial\n",
        "    - theory\n",
        "    - Python\n",
        "---"
      ]
    },
    {
      "cell_type": "markdown",
      "metadata": {
        "id": "UpaeqIPTfBUg"
      },
      "source": [
        "# Lecture 3 - NumPy\n",
        "\n",
        "## Assignment 1\n",
        "Assignment 1 is out, it is notebook form. You need to fill in the answers in the cells and produce graphs. It involves markov models, but everything needed for the assignment is explained in the notebook. It is due on **Oct 22nd 5pm**. If you have any questions, come to the office hours.\n",
        "\n",
        "Follow the instructions in the notebook and submit in canvas\n",
        "\n",
        "\n",
        "## NumPy\n",
        "- Most common package for scientific computing with Python\n",
        "- Its fundamental object is `np.array`, an multidimensional array of numbers\n",
        "- Provides linear algebra, Fourier transform, random number capabilities\n",
        "- Building block for other packages (e.g. SciPy, scikit-learn)\n",
        "- Open source, huge dev community!"
      ]
    },
    {
      "cell_type": "code",
      "execution_count": null,
      "metadata": {
        "id": "WVpT6UbFfBUj"
      },
      "outputs": [],
      "source": [
        "import numpy as np"
      ]
    },
    {
      "cell_type": "markdown",
      "metadata": {
        "id": "K0-qr5r5fBUk"
      },
      "source": [
        "## Numpy\n",
        "\n",
        "Main object type is `np.array`\n",
        "\n",
        "Many ways to create it,\n",
        "\n",
        "One way is to convert a python list"
      ]
    },
    {
      "cell_type": "code",
      "execution_count": null,
      "metadata": {
        "id": "xFlbyQcZfBUk"
      },
      "outputs": [],
      "source": [
        "python_list = [ 1,2,3 ]\n",
        "np.array(python_list)"
      ]
    },
    {
      "cell_type": "code",
      "execution_count": null,
      "metadata": {
        "id": "lZYjWgDMfBUk"
      },
      "outputs": [],
      "source": [
        "arr = np.array([1,2,3])\n",
        "arr"
      ]
    },
    {
      "cell_type": "markdown",
      "metadata": {
        "id": "AWgH7lQpfBUl"
      },
      "source": [
        "Many times a list comprehension is used to create a list and then converted to a array"
      ]
    },
    {
      "cell_type": "code",
      "execution_count": null,
      "metadata": {
        "id": "2PqkrCt7fBUl"
      },
      "outputs": [],
      "source": [
        "arr = np.array([ 2**i for i in [2,3,9] ])\n",
        "arr"
      ]
    },
    {
      "cell_type": "code",
      "execution_count": null,
      "metadata": {
        "id": "79KoqHvAfBUl"
      },
      "outputs": [],
      "source": [
        "arr = np.array([ 2**i for i in range(10) if i!= 5 ])\n",
        "arr"
      ]
    },
    {
      "cell_type": "markdown",
      "metadata": {
        "id": "V2utrk7AfBUm"
      },
      "source": [
        "### Exercise\n",
        "Create a numpy array that contain  intergers i  such that  0<i<100 and $2^i$ has the last digit 6"
      ]
    },
    {
      "cell_type": "code",
      "execution_count": null,
      "metadata": {
        "id": "gu-lo6__fBUm"
      },
      "outputs": [],
      "source": []
    },
    {
      "cell_type": "markdown",
      "metadata": {
        "id": "Z-qkERdefBUm"
      },
      "source": [
        "Create a 2D numpy array $A$ such that $A_{ij} = i\\times j$"
      ]
    },
    {
      "cell_type": "code",
      "execution_count": null,
      "metadata": {
        "id": "ssf_9xYLfBUm"
      },
      "outputs": [],
      "source": []
    },
    {
      "cell_type": "markdown",
      "metadata": {
        "id": "q4MFabqvfBUm"
      },
      "source": [
        "## Vectorization"
      ]
    },
    {
      "cell_type": "code",
      "execution_count": null,
      "metadata": {
        "id": "N35qdkWGfBUn"
      },
      "outputs": [],
      "source": [
        "def fn(x):\n",
        "    return x*x + 4*x +5"
      ]
    },
    {
      "cell_type": "code",
      "execution_count": null,
      "metadata": {
        "id": "ppUoo_IsfBUn"
      },
      "outputs": [],
      "source": [
        "fn(10)"
      ]
    },
    {
      "cell_type": "code",
      "execution_count": null,
      "metadata": {
        "id": "mtlk3s1DfBUn"
      },
      "outputs": [],
      "source": [
        "fn(np.linspace(0,1,10))"
      ]
    },
    {
      "cell_type": "markdown",
      "metadata": {
        "id": "Gy4s-RCIfBUn"
      },
      "source": [
        "### Exercise\n",
        "Create an array of first 10 powers of 2"
      ]
    },
    {
      "cell_type": "code",
      "execution_count": null,
      "metadata": {
        "id": "oqQhBzGPfBUn"
      },
      "outputs": [],
      "source": []
    },
    {
      "cell_type": "markdown",
      "metadata": {
        "id": "Z03o-u2GfBUn"
      },
      "source": [
        "## Another way to create a numpy array is with initializing functions\n",
        "\n",
        "- np.zeros\n",
        "- np.ones\n",
        "- np.arange\n",
        "\n",
        "These functions along with `reshape` can be used to create initial matrix without any for loops"
      ]
    },
    {
      "cell_type": "code",
      "execution_count": null,
      "metadata": {
        "id": "phq8QtaWfBUn"
      },
      "outputs": [],
      "source": [
        "np.zeros((10,10))"
      ]
    },
    {
      "cell_type": "code",
      "execution_count": null,
      "metadata": {
        "id": "CnsM58VpfBUn"
      },
      "outputs": [],
      "source": [
        "5*np.ones((10,10))"
      ]
    },
    {
      "cell_type": "code",
      "execution_count": null,
      "metadata": {
        "id": "WIAAOFldfBUn"
      },
      "outputs": [],
      "source": [
        "np.arange(2,10, 2)"
      ]
    },
    {
      "cell_type": "markdown",
      "metadata": {
        "id": "aWhfe5FTfBUn"
      },
      "source": [
        "You can combine these functions with arithmetic operations"
      ]
    },
    {
      "cell_type": "code",
      "execution_count": null,
      "metadata": {
        "id": "5_rCgErXfBUn"
      },
      "outputs": [],
      "source": [
        "np.zeros((10,10)) + 5"
      ]
    },
    {
      "cell_type": "code",
      "execution_count": null,
      "metadata": {
        "id": "r44cHiibfBUn"
      },
      "outputs": [],
      "source": [
        "np.ones((10,10))*5"
      ]
    },
    {
      "cell_type": "code",
      "execution_count": null,
      "metadata": {
        "id": "DGXxSjDcfBUo"
      },
      "outputs": [],
      "source": []
    },
    {
      "cell_type": "code",
      "execution_count": null,
      "metadata": {
        "id": "LtEkevKWfBUo"
      },
      "outputs": [],
      "source": [
        "np.arange(10).reshape(10,1)*np.ones((10,10))"
      ]
    },
    {
      "cell_type": "markdown",
      "metadata": {
        "id": "gVjZeTSRfBUo"
      },
      "source": [
        "### Distinction between numpy 1D arrays and numpy 2D arrays\n",
        "\n",
        "This tends to cause a lot of confusion for new numpy users.\n",
        "Follow the below examples carefully to understand the distinction."
      ]
    },
    {
      "cell_type": "code",
      "execution_count": null,
      "metadata": {
        "id": "aPATg9MdfBUo"
      },
      "outputs": [],
      "source": [
        "X = np.arange(10)\n",
        "print(X)\n",
        "print(X.shape)"
      ]
    },
    {
      "cell_type": "code",
      "execution_count": null,
      "metadata": {
        "id": "O06XmSJZfBUo"
      },
      "outputs": [],
      "source": [
        "Y=np.arange(10).reshape(-1,1)\n",
        "print(Y)\n",
        "print(Y.shape)"
      ]
    },
    {
      "cell_type": "code",
      "execution_count": null,
      "metadata": {
        "id": "IbUkyZtLfBUo"
      },
      "outputs": [],
      "source": [
        "Z=np.arange(10).reshape(1,-1)\n",
        "print(Z)\n",
        "print(Z.shape)"
      ]
    },
    {
      "cell_type": "code",
      "execution_count": null,
      "metadata": {
        "id": "sxLDwltWfBUo"
      },
      "outputs": [],
      "source": [
        "Z.squeeze()"
      ]
    },
    {
      "cell_type": "code",
      "execution_count": null,
      "metadata": {
        "id": "VRA2KBALfBUo"
      },
      "outputs": [],
      "source": [
        "Mat = np.random.randn(10,10)"
      ]
    },
    {
      "cell_type": "code",
      "execution_count": null,
      "metadata": {
        "id": "aTaCGHTWfBUo"
      },
      "outputs": [],
      "source": [
        "Mat@X"
      ]
    },
    {
      "cell_type": "code",
      "execution_count": null,
      "metadata": {
        "id": "Faq1lMIlfBUo"
      },
      "outputs": [],
      "source": [
        "arr = np.arange(10)\n",
        "arr"
      ]
    },
    {
      "cell_type": "code",
      "execution_count": null,
      "metadata": {
        "id": "5r1DbkKofBUo"
      },
      "outputs": [],
      "source": [
        "ones_matrix = np.ones((10,10))\n",
        "ones_matrix"
      ]
    },
    {
      "cell_type": "code",
      "execution_count": null,
      "metadata": {
        "id": "eXYuw68XfBUo"
      },
      "outputs": [],
      "source": [
        "arr*ones_matrix"
      ]
    },
    {
      "cell_type": "code",
      "execution_count": null,
      "metadata": {
        "id": "wyz765ElfBUo"
      },
      "outputs": [],
      "source": [
        "arr2 = np.arange(10).reshape(-1,1)\n",
        "arr2"
      ]
    },
    {
      "cell_type": "code",
      "execution_count": null,
      "metadata": {
        "id": "1sJYHzaXfBUp"
      },
      "outputs": [],
      "source": [
        "arr2*ones_matrix"
      ]
    },
    {
      "cell_type": "markdown",
      "metadata": {
        "id": "7yx3mkvlfBUt"
      },
      "source": [
        "## Array Broadcasting\n",
        "\n",
        "Normally you only do arithmetic operations between arrays of the same dimension"
      ]
    },
    {
      "cell_type": "code",
      "execution_count": null,
      "metadata": {
        "id": "lX0Au8hafBUv"
      },
      "outputs": [],
      "source": [
        "np.ones((5,5,5))"
      ]
    },
    {
      "cell_type": "code",
      "execution_count": null,
      "metadata": {
        "id": "i4uJwBeafBUv"
      },
      "outputs": [],
      "source": [
        "np.ones((5,5,5)) + np.arange(5*5*5).reshape(5,5,5)"
      ]
    },
    {
      "cell_type": "code",
      "execution_count": null,
      "metadata": {
        "id": "LIMSUtKlfBUv"
      },
      "outputs": [],
      "source": [
        "np.ones((5,5,5)) + np.arange(5).reshape(5,1,1)"
      ]
    },
    {
      "cell_type": "code",
      "execution_count": null,
      "metadata": {
        "id": "VJaclO4rfBUv"
      },
      "outputs": [],
      "source": [
        "np.arange(10) + np.arange(10).reshape(-1,1)"
      ]
    },
    {
      "cell_type": "code",
      "execution_count": null,
      "metadata": {
        "id": "oa54trHTfBUv"
      },
      "outputs": [],
      "source": [
        "np.ones((1,5,5)) + np.ones((5,1,5))"
      ]
    },
    {
      "cell_type": "markdown",
      "metadata": {
        "id": "fVvpruL6fBUv"
      },
      "source": [
        "![](http://scipy-lectures.org/_images/numpy_broadcasting.png)"
      ]
    },
    {
      "cell_type": "markdown",
      "metadata": {
        "id": "I0wWjQyAfBUv"
      },
      "source": [
        "### Exercise\n",
        "create a 2D numpy array $A$ such that $A_{ij} = i\\times j$, but without using list comprehensions. Use broadcasting instead\n"
      ]
    },
    {
      "cell_type": "code",
      "execution_count": null,
      "metadata": {
        "id": "sYX2YbIPfBUv"
      },
      "outputs": [],
      "source": []
    },
    {
      "cell_type": "markdown",
      "metadata": {
        "id": "n25qiEI0fBUv"
      },
      "source": [
        "Use array broadcasting to create a (10,10) numpy array with values\n",
        "$$ A_{ij} = 2^i + j $$"
      ]
    },
    {
      "cell_type": "code",
      "execution_count": null,
      "metadata": {
        "id": "MnQXeVddfBUv"
      },
      "outputs": [],
      "source": []
    },
    {
      "cell_type": "markdown",
      "metadata": {
        "id": "q1x3vWt8fBUv"
      },
      "source": [
        "## Matrix creation\n",
        "\n",
        "There are some functions to create standard matrices"
      ]
    },
    {
      "cell_type": "code",
      "execution_count": null,
      "metadata": {
        "id": "RDF7RtdGfBUv"
      },
      "outputs": [],
      "source": [
        "np.eye(10)"
      ]
    },
    {
      "cell_type": "code",
      "execution_count": null,
      "metadata": {
        "id": "wH3Q0kuYfBUv"
      },
      "outputs": [],
      "source": [
        "M = np.diag(np.arange(10))\n",
        "M"
      ]
    },
    {
      "cell_type": "code",
      "execution_count": null,
      "metadata": {
        "id": "b-oySmkhfBUv"
      },
      "outputs": [],
      "source": [
        "np.diag(M)"
      ]
    },
    {
      "cell_type": "code",
      "execution_count": null,
      "metadata": {
        "id": "kOv79YZufBUv"
      },
      "outputs": [],
      "source": [
        "A = np.arange(15).reshape(5,3).T\n",
        "A"
      ]
    },
    {
      "cell_type": "code",
      "execution_count": null,
      "metadata": {
        "id": "pC3QODUNfBUw"
      },
      "outputs": [],
      "source": [
        "x = np.arange(3).reshape(-1,1)\n",
        "y = np.arange(3).reshape(1,-1)\n",
        "np.dot(x,y)"
      ]
    },
    {
      "cell_type": "code",
      "execution_count": null,
      "metadata": {
        "id": "J4xhBT4MfBUw"
      },
      "outputs": [],
      "source": [
        "x @ y"
      ]
    },
    {
      "cell_type": "markdown",
      "metadata": {
        "id": "FnLghA0HfBUw"
      },
      "source": [
        "### Exercise\n",
        "\n",
        "Create this matrix\n",
        "```\n",
        "array([[5., 1., 1., 1., 1., 1., 1., 1., 1., 1., 1.],\n",
        "       [1., 4., 1., 1., 1., 1., 1., 1., 1., 1., 1.],\n",
        "       [1., 1., 3., 1., 1., 1., 1., 1., 1., 1., 1.],\n",
        "       [1., 1., 1., 2., 1., 1., 1., 1., 1., 1., 1.],\n",
        "       [1., 1., 1., 1., 1., 1., 1., 1., 1., 1., 1.],\n",
        "       [1., 1., 1., 1., 1., 0., 1., 1., 1., 1., 1.],\n",
        "       [1., 1., 1., 1., 1., 1., 1., 1., 1., 1., 1.],\n",
        "       [1., 1., 1., 1., 1., 1., 1., 2., 1., 1., 1.],\n",
        "       [1., 1., 1., 1., 1., 1., 1., 1., 3., 1., 1.],\n",
        "       [1., 1., 1., 1., 1., 1., 1., 1., 1., 4., 1.],\n",
        "       [1., 1., 1., 1., 1., 1., 1., 1., 1., 1., 5.]])```"
      ]
    },
    {
      "cell_type": "code",
      "execution_count": null,
      "metadata": {
        "id": "o1T70CaMfBUw"
      },
      "outputs": [],
      "source": []
    },
    {
      "cell_type": "markdown",
      "metadata": {
        "id": "-uF5lRu_fBUw"
      },
      "source": [
        "## Array Indexing and Slicing"
      ]
    },
    {
      "cell_type": "code",
      "execution_count": null,
      "metadata": {
        "id": "LjHvZR-RfBUw"
      },
      "outputs": [],
      "source": [
        "arr = np.arange(10)\n",
        "arr"
      ]
    },
    {
      "cell_type": "code",
      "execution_count": null,
      "metadata": {
        "id": "QA8Ra3jofBUw"
      },
      "outputs": [],
      "source": [
        "arr[5], arr[-2]"
      ]
    },
    {
      "cell_type": "code",
      "execution_count": null,
      "metadata": {
        "id": "1SglUXHffBUw"
      },
      "outputs": [],
      "source": [
        "arr[3:7]"
      ]
    },
    {
      "cell_type": "code",
      "execution_count": null,
      "metadata": {
        "id": "qAj507D-fBUw"
      },
      "outputs": [],
      "source": [
        "arr[:-2]"
      ]
    },
    {
      "cell_type": "code",
      "execution_count": null,
      "metadata": {
        "id": "2dYQsX0rfBUw"
      },
      "outputs": [],
      "source": [
        "arr[0:6:2]"
      ]
    },
    {
      "cell_type": "code",
      "execution_count": null,
      "metadata": {
        "id": "XaIx6mW_fBUw"
      },
      "outputs": [],
      "source": [
        "arr[5:0:-2]"
      ]
    },
    {
      "cell_type": "code",
      "execution_count": null,
      "metadata": {
        "id": "lZKamZJqfBUw"
      },
      "outputs": [],
      "source": [
        "arr[::-1]"
      ]
    },
    {
      "cell_type": "code",
      "execution_count": null,
      "metadata": {
        "id": "pfyv52QYfBUw"
      },
      "outputs": [],
      "source": [
        "arr[-1]"
      ]
    },
    {
      "cell_type": "markdown",
      "metadata": {
        "id": "vhs1_fQsfBUw"
      },
      "source": [
        "Can use all the above slicing methods for each dimension of a multidemnsional array\n",
        "![](http://scipy-lectures.org/_images/numpy_indexing.png)"
      ]
    },
    {
      "cell_type": "markdown",
      "metadata": {
        "id": "FiQIDtn1fBUw"
      },
      "source": [
        "try it yourself"
      ]
    },
    {
      "cell_type": "code",
      "execution_count": null,
      "metadata": {
        "id": "gkLyqCkOfBUw"
      },
      "outputs": [],
      "source": [
        "a = 10*np.arange(6).reshape(-1,1)+np.arange(6)\n",
        "a"
      ]
    },
    {
      "cell_type": "code",
      "execution_count": null,
      "metadata": {
        "id": "YAeKz8CYfBUx"
      },
      "outputs": [],
      "source": [
        "a[0,3:5]"
      ]
    },
    {
      "cell_type": "markdown",
      "metadata": {
        "id": "gr5wQmNqfBUx"
      },
      "source": [
        "### Exercise\n",
        "Create the following matrix\n",
        "```\n",
        "array([[1., 1., 1., 1., 1., 1., 1., 1., 1., 1.],\n",
        "       [1., 1., 1., 1., 1., 1., 1., 1., 1., 1.],\n",
        "       [1., 1., 0., 0., 0., 0., 0., 0., 1., 1.],\n",
        "       [1., 1., 0., 0., 0., 0., 0., 0., 1., 1.],\n",
        "       [1., 1., 0., 0., 0., 0., 0., 0., 1., 1.],\n",
        "       [1., 1., 0., 0., 0., 0., 0., 0., 1., 1.],\n",
        "       [1., 1., 0., 0., 0., 0., 0., 0., 1., 1.],\n",
        "       [1., 1., 0., 0., 0., 0., 0., 0., 1., 1.],\n",
        "       [1., 1., 1., 1., 1., 1., 1., 1., 1., 1.],\n",
        "       [1., 1., 1., 1., 1., 1., 1., 1., 1., 1.]])```"
      ]
    },
    {
      "cell_type": "code",
      "execution_count": null,
      "metadata": {
        "id": "On9-oPiqfBUx"
      },
      "outputs": [],
      "source": []
    },
    {
      "cell_type": "markdown",
      "metadata": {
        "id": "HVIm8SQ-fBUx"
      },
      "source": [
        "Create the following matrix\n",
        "```\n",
        "array([[-1., -1., -1., -1., -1., -1., -1., -1., -1., -1.],\n",
        "       [-1.,  0.,  1.,  2.,  3.,  4., -1., -1., -1., -1.],\n",
        "       [-1.,  5.,  6.,  7.,  8.,  9., -1., -1., -1., -1.],\n",
        "       [-1., 10., 11., 12., 13., 14., -1., -1., -1., -1.],\n",
        "       [-1., 15., 16., 17., 18., 19., -1., -1., -1., -1.],\n",
        "       [-1., 20., 21., 22., 23., 24., -1., -1., -1., -1.],\n",
        "       [-1., 25., 26., 27., 28., 29., -1., -1., -1., -1.],\n",
        "       [-1., 30., 31., 32., 33., 34., -1., -1., -1., -1.],\n",
        "       [-1., 35., 36., 37., 38., 39., -1., -1., -1., -1.],\n",
        "       [-1., -1., -1., -1., -1., -1., -1., -1., -1., -1.]])```"
      ]
    },
    {
      "cell_type": "code",
      "execution_count": null,
      "metadata": {
        "id": "LF_aVyTafBUy"
      },
      "outputs": [],
      "source": []
    },
    {
      "cell_type": "markdown",
      "metadata": {
        "id": "m6CPPnTJfBUy"
      },
      "source": [
        "# Fancy Array Indexing\n",
        "\n",
        "We can use numpy arrays as an index for other numpy arrays"
      ]
    },
    {
      "cell_type": "code",
      "execution_count": null,
      "metadata": {
        "id": "b8s5cwTTfBUy"
      },
      "outputs": [],
      "source": [
        "arr = np.arange(10)\n",
        "arr"
      ]
    },
    {
      "cell_type": "code",
      "execution_count": null,
      "metadata": {
        "id": "6DkNm64EfBUy"
      },
      "outputs": [],
      "source": [
        "idx = np.array([7,-5,2])"
      ]
    },
    {
      "cell_type": "code",
      "execution_count": null,
      "metadata": {
        "id": "8-F7ILfEfBUy"
      },
      "outputs": [],
      "source": [
        "arr[idx]=-1\n",
        "arr"
      ]
    },
    {
      "cell_type": "code",
      "execution_count": null,
      "metadata": {
        "id": "KNZ5PzzmfBUy"
      },
      "outputs": [],
      "source": [
        "arr<0"
      ]
    },
    {
      "cell_type": "code",
      "execution_count": null,
      "metadata": {
        "id": "7nQwxbh5fBUy"
      },
      "outputs": [],
      "source": [
        "arr[arr<0] = np.arange(3)\n",
        "arr"
      ]
    },
    {
      "cell_type": "markdown",
      "metadata": {
        "id": "MrfCYMCtfBUy"
      },
      "source": [
        "For multidimensional array, array indexing works different from slicing"
      ]
    },
    {
      "cell_type": "code",
      "execution_count": null,
      "metadata": {
        "id": "Zbpvy8QNfBUy"
      },
      "outputs": [],
      "source": [
        "X = np.zeros((10,10))\n",
        "X[3:8,3:9]=1\n",
        "X"
      ]
    },
    {
      "cell_type": "code",
      "execution_count": null,
      "metadata": {
        "id": "0BwJVgOffBUy"
      },
      "outputs": [],
      "source": [
        "X = np.zeros((10,10))\n",
        "X[np.arange(3,9),np.arange(3,9)]=1\n",
        "X"
      ]
    },
    {
      "cell_type": "markdown",
      "metadata": {
        "id": "I4kXTrDsfBUy"
      },
      "source": [
        "![](http://scipy-lectures.org/_images/numpy_fancy_indexing.png)"
      ]
    },
    {
      "cell_type": "markdown",
      "metadata": {
        "id": "x0ozB32_fBUy"
      },
      "source": [
        "### Exercise\n",
        "Create the following matrix\n",
        "```\n",
        "array([[0., 0., 0., 0., 0., 0., 0., 0., 0., 1.],\n",
        "       [0., 0., 0., 0., 0., 0., 0., 1., 0., 0.],\n",
        "       [0., 0., 0., 0., 0., 1., 0., 0., 0., 0.],\n",
        "       [0., 0., 0., 1., 0., 0., 0., 0., 0., 0.],\n",
        "       [0., 1., 0., 0., 0., 0., 0., 0., 0., 0.],\n",
        "       [0., 1., 0., 0., 0., 0., 0., 0., 0., 0.],\n",
        "       [0., 0., 0., 1., 0., 0., 0., 0., 0., 0.],\n",
        "       [0., 0., 0., 0., 0., 1., 0., 0., 0., 0.],\n",
        "       [0., 0., 0., 0., 0., 0., 0., 1., 0., 0.],\n",
        "       [0., 0., 0., 0., 0., 0., 0., 0., 0., 1.]])```"
      ]
    },
    {
      "cell_type": "code",
      "execution_count": null,
      "metadata": {
        "id": "pBVsO2F9fBUy"
      },
      "outputs": [],
      "source": []
    },
    {
      "cell_type": "markdown",
      "metadata": {
        "id": "17hZRvZpfBUy"
      },
      "source": [
        "We can use `np.where`, to get indices of the `True` values in a boolean array"
      ]
    },
    {
      "cell_type": "code",
      "execution_count": null,
      "metadata": {
        "id": "PCGpbyWifBUy"
      },
      "outputs": [],
      "source": [
        "#X = np.arange(10)\n",
        "Y = np.zeros((10,10))\n",
        "Y[np.where(X>0)]=2\n",
        "Y"
      ]
    },
    {
      "cell_type": "markdown",
      "metadata": {
        "id": "HjL9dUMpfBUz"
      },
      "source": [
        "## Reduction operations\n",
        "\n",
        "Many reduction functions are available\n",
        "\n",
        "- np.sum, np.prod\n",
        "- np.min, np.max\n",
        "- np.any, np.all\n",
        "\n",
        "Partial reductions\n",
        "\n",
        "- np.cumsum, np.cumprod"
      ]
    },
    {
      "cell_type": "code",
      "execution_count": null,
      "metadata": {
        "id": "Qoz71SXQfBUz"
      },
      "outputs": [],
      "source": [
        "X = np.arange(100).reshape(10,10)\n",
        "X"
      ]
    },
    {
      "cell_type": "code",
      "execution_count": null,
      "metadata": {
        "id": "0EIdBCrpfBUz"
      },
      "outputs": [],
      "source": [
        "np.sum(X),np.prod(X)"
      ]
    },
    {
      "cell_type": "code",
      "execution_count": null,
      "metadata": {
        "id": "ZlvGoMDRfBUz"
      },
      "outputs": [],
      "source": [
        "np.prod(X,axis=1)"
      ]
    },
    {
      "cell_type": "code",
      "execution_count": null,
      "metadata": {
        "id": "-mHTqC42fBUz"
      },
      "outputs": [],
      "source": [
        "np.min(X),np.max(X)"
      ]
    },
    {
      "cell_type": "code",
      "execution_count": null,
      "metadata": {
        "id": "nm_VMOwkfBUz"
      },
      "outputs": [],
      "source": [
        "np.min(X,axis=0)"
      ]
    },
    {
      "cell_type": "code",
      "execution_count": null,
      "metadata": {
        "id": "5awQmhesfBUz"
      },
      "outputs": [],
      "source": [
        "Y = X<1\n",
        "Y"
      ]
    },
    {
      "cell_type": "code",
      "execution_count": null,
      "metadata": {
        "id": "2O7PDD1BfBUz"
      },
      "outputs": [],
      "source": [
        "np.any(Y)"
      ]
    },
    {
      "cell_type": "code",
      "execution_count": null,
      "metadata": {
        "id": "OlDv88ADfBUz"
      },
      "outputs": [],
      "source": [
        "np.all(Y)"
      ]
    },
    {
      "cell_type": "markdown",
      "metadata": {
        "id": "qghW8VjFfBUz"
      },
      "source": [
        "All the above functions can be called on the array object directly"
      ]
    },
    {
      "cell_type": "code",
      "execution_count": null,
      "metadata": {
        "id": "x5_oB2SufBUz"
      },
      "outputs": [],
      "source": [
        "X.max(axis=0)"
      ]
    },
    {
      "cell_type": "code",
      "execution_count": null,
      "metadata": {
        "id": "1hr97iLRfBUz"
      },
      "outputs": [],
      "source": [
        "(np.sqrt(X*X*X)<5000).all()"
      ]
    },
    {
      "cell_type": "code",
      "execution_count": null,
      "metadata": {
        "id": "gez3dp79fBUz"
      },
      "outputs": [],
      "source": [
        "np.cumsum(np.ones((10,10)),axis=1)"
      ]
    },
    {
      "cell_type": "markdown",
      "metadata": {
        "id": "1JHc7D4ufBU0"
      },
      "source": [
        "Cumulative operations don't change the shape of the array"
      ]
    },
    {
      "cell_type": "code",
      "execution_count": null,
      "metadata": {
        "id": "vKQCo4jKfBU0"
      },
      "outputs": [],
      "source": [
        "np.cumsum(X,axis=0)"
      ]
    },
    {
      "cell_type": "markdown",
      "metadata": {
        "id": "A58z5NsnfBU0"
      },
      "source": [
        "### Exercise\n",
        "\n",
        "- Find the column with maximum column sum\n",
        "- For which rows of the matrix, the sum of the first three elements of the row is greater than the sum of the last two elements of the row"
      ]
    },
    {
      "cell_type": "code",
      "execution_count": null,
      "metadata": {
        "id": "gOva9vJHfBU0"
      },
      "outputs": [],
      "source": [
        "np.random.seed(10)\n",
        "X = np.random.rand(5,5)\n",
        "X"
      ]
    },
    {
      "cell_type": "code",
      "execution_count": null,
      "metadata": {
        "id": "a30vYJezfBU0"
      },
      "outputs": [],
      "source": []
    },
    {
      "cell_type": "code",
      "execution_count": null,
      "metadata": {
        "id": "aO7-77WEfBU0"
      },
      "outputs": [],
      "source": []
    },
    {
      "cell_type": "markdown",
      "metadata": {
        "id": "W2Gl340WfBU0"
      },
      "source": [
        "### Exercise\n",
        "Compute the the moving average of the array `y` created below, with window size 5."
      ]
    },
    {
      "cell_type": "code",
      "execution_count": null,
      "metadata": {
        "id": "alQA3t_mfBU0"
      },
      "outputs": [],
      "source": [
        "np.random.seed(10)\n",
        "y = np.cumsum(np.random.rand(100)-0.5)\n",
        "import matplotlib.pyplot as plt\n",
        "plt.plot(y)"
      ]
    },
    {
      "cell_type": "code",
      "execution_count": null,
      "metadata": {
        "id": "z60wvmD3fBU0"
      },
      "outputs": [],
      "source": [
        "z= np.cumsum(y)\n",
        "z[5:] = z[5:] - z[:-5]\n",
        "z/=5\n",
        "plt.plot(y)\n",
        "plt.plot(z)"
      ]
    },
    {
      "cell_type": "markdown",
      "metadata": {
        "id": "xkoUp81QfBU0"
      },
      "source": [
        "## Final Exercise\n",
        "\n",
        "Implement the [Conway's game of Life](https://en.wikipedia.org/wiki/Conway%27s_Game_of_Life) using numpy"
      ]
    },
    {
      "cell_type": "code",
      "execution_count": null,
      "metadata": {
        "id": "aA2n-PLefBU0"
      },
      "outputs": [],
      "source": [
        "X = (np.random.rand(100,100)>0.9).astype(int)\n",
        "import matplotlib.pyplot as plt\n",
        "plt.imshow(X)"
      ]
    },
    {
      "cell_type": "code",
      "execution_count": null,
      "metadata": {
        "id": "uADLrzaHfBU1"
      },
      "outputs": [],
      "source": [
        "count =\\\n",
        "X[:-2,:-2] + X[:-2,1:-1] + X[:-2,2::] +\\\n",
        "X[1:-1,:-2] +              X[1:-1,2:] +\\\n",
        "X[2:,:-2] + X[2:,1:-1] +   X[2:,2:]\n",
        "\n",
        "newX = ((count==3) & (X[1:-1,1:-1]==0)) | (((count==3)|(count==2)) & (X[1:-1,1:-1]==1))\n",
        "X[:]=0\n",
        "X[1:-1,1:-1] = newX\n",
        "plt.imshow(X)"
      ]
    },
    {
      "cell_type": "code",
      "execution_count": null,
      "metadata": {
        "id": "775_1QUtfBU1"
      },
      "outputs": [],
      "source": []
    }
  ],
  "metadata": {
    "colab": {
      "provenance": []
    },
    "kernelspec": {
      "display_name": "Python (3.6-cme193_new)",
      "language": "python",
      "name": "cme193_new"
    },
    "language_info": {
      "codemirror_mode": {
        "name": "ipython",
        "version": 3
      },
      "file_extension": ".py",
      "mimetype": "text/x-python",
      "name": "python",
      "nbconvert_exporter": "python",
      "pygments_lexer": "ipython3",
      "version": "3.6.8"
    }
  },
  "nbformat": 4,
  "nbformat_minor": 0
}
