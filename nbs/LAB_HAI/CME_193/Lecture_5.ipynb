{
  "cells": [
    {
      "cell_type": "markdown",
      "metadata": {},
      "source": [
        "---\n",
        "title-block-banner: true\n",
        "title: \"CME 193 - Lecture 5\"\n",
        "subtitle: \"SciPy / [cme193.stanford.edu](http://cme193.stanford.edu).\"\n",
        "description: optimizing\n",
        "categories:\n",
        "    - tutorial\n",
        "    - theory\n",
        "    - Python\n",
        "---"
      ]
    },
    {
      "cell_type": "markdown",
      "metadata": {
        "id": "HfFmSJnKfG3R"
      },
      "source": [
        "# Lecture 5 - SciPy\n",
        "\n",
        "### Notes on homework:\n",
        "- Try to optimize for speed\n",
        "- If you are using colab, here is how to download saved figures. (only works on chrome)\n",
        "```\n",
        "from google.colab import files\n",
        "files.download(\"plot.png\")\n",
        "```\n",
        "\n",
        "\n",
        "What we have seen so far\n",
        "- Basic python language features\n",
        "- Introduction to NumPy\n",
        "- Plotting using matplotlib\n",
        "\n",
        "Scipy is a collection of packages that provide useful mathematical functions commonly used for scientific computing.\n",
        "\n",
        "List of subpackages\n",
        "- cluster : Clustering algorithms\n",
        "- constants : Physical and mathematical constants\n",
        "- fftpack : Fast Fourier Transform routines\n",
        "- integrate : Integration and ordinary differential equation solvers\n",
        "- interpolate : Interpolation and smoothing splines\n",
        "- io : Input and Output\n",
        "- linalg : Linear algebra\n",
        "- ndimage : N-dimensional image processing\n",
        "- odr : Orthogonal distance regression\n",
        "- optimize : Optimization and root-finding routines\n",
        "- signal : Signal processing\n",
        "- sparse : Sparse matrices and associated routines\n",
        "- spatial : Spatial data structures and algorithms\n",
        "- special : Special functions\n",
        "- stats : Statistical distributions and functions\n",
        "\n",
        "We cannot cover all of them in detail but we will go through some of the packages and their capabilities today\n",
        "\n",
        "- interpolate\n",
        "- optimize\n",
        "- stats\n",
        "- integrate\n",
        "\n",
        "We will also briefly look at some other useful packages\n",
        "- networkx\n",
        "- sympy"
      ]
    },
    {
      "cell_type": "code",
      "execution_count": null,
      "metadata": {
        "id": "fzhuTZVGfG3W"
      },
      "outputs": [],
      "source": [
        "import numpy as np\n",
        "import matplotlib.pyplot as plt"
      ]
    },
    {
      "cell_type": "code",
      "execution_count": null,
      "metadata": {
        "id": "I3_U1aNNfG3X"
      },
      "outputs": [],
      "source": [
        "import scipy.linalg as la"
      ]
    },
    {
      "cell_type": "markdown",
      "metadata": {
        "id": "SA1fuOaCfG3X"
      },
      "source": [
        "## Interpolation : `scipy.interpolate`"
      ]
    },
    {
      "cell_type": "code",
      "execution_count": null,
      "metadata": {
        "id": "x1GNXimnfG3X"
      },
      "outputs": [],
      "source": [
        "import scipy.interpolate as interp"
      ]
    },
    {
      "cell_type": "code",
      "execution_count": null,
      "metadata": {
        "id": "hXfUm7QlfG3Y"
      },
      "outputs": [],
      "source": [
        "x = np.linspace(-1,2,5);\n",
        "y = x**3\n",
        "plt.plot(x,y,'bo')"
      ]
    },
    {
      "cell_type": "code",
      "execution_count": null,
      "metadata": {
        "id": "3Q4BZDqofG3Y"
      },
      "outputs": [],
      "source": [
        "f = interp.interp1d(x,y,kind=\"linear\")"
      ]
    },
    {
      "cell_type": "code",
      "execution_count": null,
      "metadata": {
        "id": "Szc1ZUc2fG3Y"
      },
      "outputs": [],
      "source": [
        "type(f)"
      ]
    },
    {
      "cell_type": "code",
      "execution_count": null,
      "metadata": {
        "id": "xYmRfnEffG3Y"
      },
      "outputs": [],
      "source": [
        "f(0.2)"
      ]
    },
    {
      "cell_type": "code",
      "execution_count": null,
      "metadata": {
        "id": "xfm0Qy9ffG3Z"
      },
      "outputs": [],
      "source": [
        "x_fine = np.linspace(-1,2,100)\n",
        "plt.plot(x_fine,f(x_fine))\n",
        "plt.plot(x,y,'ro')"
      ]
    },
    {
      "cell_type": "code",
      "execution_count": null,
      "metadata": {
        "id": "8pEbVjqnfG3Z"
      },
      "outputs": [],
      "source": [
        "plt.plot(x_fine,interp.interp1d(x,y,kind=\"zero\")(x_fine))\n",
        "plt.plot(x_fine,interp.interp1d(x,y,kind=\"linear\")(x_fine))\n",
        "plt.plot(x_fine,interp.interp1d(x,y,kind=\"cubic\")(x_fine))\n",
        "plt.plot(x,y,'ro')"
      ]
    },
    {
      "cell_type": "code",
      "execution_count": null,
      "metadata": {
        "id": "qSzw89mPfG3Z"
      },
      "outputs": [],
      "source": [
        "interp.interp1d?"
      ]
    },
    {
      "cell_type": "code",
      "execution_count": null,
      "metadata": {
        "id": "qavK1uDKfG3Z"
      },
      "outputs": [],
      "source": [
        "interp.interp2d?"
      ]
    },
    {
      "cell_type": "markdown",
      "metadata": {
        "id": "zK3VAn1EfG3Z"
      },
      "source": [
        "## Optimization : `scipy.optimize`\n",
        "\n",
        "Contains functions to find minima, roots and fit parameters"
      ]
    },
    {
      "cell_type": "code",
      "execution_count": null,
      "metadata": {
        "id": "W3TTMF_gfG3a"
      },
      "outputs": [],
      "source": [
        "from scipy import optimize"
      ]
    },
    {
      "cell_type": "code",
      "execution_count": null,
      "metadata": {
        "id": "V0y2Jdf_fG3a"
      },
      "outputs": [],
      "source": [
        "def f(x):\n",
        "    return x**4 -10*x**2"
      ]
    },
    {
      "cell_type": "code",
      "execution_count": null,
      "metadata": {
        "id": "6FkSQEbnfG3a"
      },
      "outputs": [],
      "source": [
        "x = np.linspace(-5,5,100)\n",
        "plt.plot(x,f(x));"
      ]
    },
    {
      "cell_type": "code",
      "execution_count": null,
      "metadata": {
        "id": "U1dQN2SWfG3a"
      },
      "outputs": [],
      "source": [
        "results = optimize.minimize(f, 4)\n",
        "results"
      ]
    },
    {
      "cell_type": "code",
      "execution_count": null,
      "metadata": {
        "id": "Wy_iId4jfG3a"
      },
      "outputs": [],
      "source": [
        "x_opt = results.x"
      ]
    },
    {
      "cell_type": "code",
      "execution_count": null,
      "metadata": {
        "id": "RJq3t_ATfG3a"
      },
      "outputs": [],
      "source": [
        "plt.plot(x,f(x));\n",
        "plt.plot(x_opt,f(x_opt),'ro');"
      ]
    },
    {
      "cell_type": "code",
      "execution_count": null,
      "metadata": {
        "id": "HPdCwstFfG3a"
      },
      "outputs": [],
      "source": [
        "optimize.minimize?"
      ]
    },
    {
      "cell_type": "code",
      "execution_count": null,
      "metadata": {
        "id": "c7m7xEd_fG3a"
      },
      "outputs": [],
      "source": [
        "def f(x):\n",
        "    return x[0]*x[0] + x[1]*x[1] + 5*(np.sin(2*x[0]) + np.sin(2*x[1]) )"
      ]
    },
    {
      "cell_type": "code",
      "execution_count": null,
      "metadata": {
        "id": "1Dp70cZAfG3a"
      },
      "outputs": [],
      "source": [
        "x=np.linspace(-5,5,100)\n",
        "y=np.linspace(-5,5,100)\n",
        "X,Y = np.meshgrid(x,y)"
      ]
    },
    {
      "cell_type": "code",
      "execution_count": null,
      "metadata": {
        "id": "d5LufLjsfG3a"
      },
      "outputs": [],
      "source": [
        "plt.imshow(X**2+Y**2)"
      ]
    },
    {
      "cell_type": "code",
      "execution_count": null,
      "metadata": {
        "id": "8xbhNWyXfG3a"
      },
      "outputs": [],
      "source": [
        "plt.imshow(f(np.array([X,Y])))"
      ]
    },
    {
      "cell_type": "code",
      "execution_count": null,
      "metadata": {
        "id": "kTxUYMfNfG3b"
      },
      "outputs": [],
      "source": [
        "optimize.minimize(f,x0=[-1,1])"
      ]
    },
    {
      "cell_type": "markdown",
      "metadata": {
        "id": "JGyJn-i3fG3b"
      },
      "source": [
        "## Curve Fitting"
      ]
    },
    {
      "cell_type": "code",
      "execution_count": null,
      "metadata": {
        "id": "ALr7fAHrfG3b"
      },
      "outputs": [],
      "source": [
        "x = np.linspace(-2,2,30)\n",
        "y = x+np.sin(6.5*x)+0.3*np.random.randn(30)\n",
        "plt.plot(x,y,'ro')"
      ]
    },
    {
      "cell_type": "code",
      "execution_count": null,
      "metadata": {
        "id": "vzXF3c4bfG3b"
      },
      "outputs": [],
      "source": [
        "def f(x,a,b):\n",
        "    return a*x +b"
      ]
    },
    {
      "cell_type": "code",
      "execution_count": null,
      "metadata": {
        "id": "UGWfKlLyfG3b"
      },
      "outputs": [],
      "source": [
        "((a,b),_) = optimize.curve_fit(f,x,y,(0,0))\n",
        "a,b"
      ]
    },
    {
      "cell_type": "code",
      "execution_count": null,
      "metadata": {
        "id": "PVpJhVOqfG3b"
      },
      "outputs": [],
      "source": [
        "optimize.curve_fit?"
      ]
    },
    {
      "cell_type": "code",
      "execution_count": null,
      "metadata": {
        "id": "GehhplOtfG3b"
      },
      "outputs": [],
      "source": [
        "x_fine = np.linspace(-2,2,200)\n",
        "plt.plot(x_fine,f(x_fine,a,b))\n",
        "plt.plot(x,y,'ro')"
      ]
    },
    {
      "cell_type": "code",
      "execution_count": null,
      "metadata": {
        "id": "iejHqHrofG3b"
      },
      "outputs": [],
      "source": [
        "def g(x,a,b):\n",
        "    return a*x +b*np.sin(6.5*x)"
      ]
    },
    {
      "cell_type": "code",
      "execution_count": null,
      "metadata": {
        "id": "2sG2v6AcfG3b"
      },
      "outputs": [],
      "source": [
        "((a,b),_) = optimize.curve_fit(g,x,y,(0,0))\n",
        "a,b"
      ]
    },
    {
      "cell_type": "code",
      "execution_count": null,
      "metadata": {
        "id": "0Qj4xpGxfG3b"
      },
      "outputs": [],
      "source": [
        "x_fine = np.linspace(-2,2,200)\n",
        "plt.plot(x_fine,g(x_fine,a,b))\n",
        "plt.plot(x,y,'ro')"
      ]
    },
    {
      "cell_type": "markdown",
      "metadata": {
        "id": "PNWgTdCWfG3b"
      },
      "source": [
        "### Root Finding"
      ]
    },
    {
      "cell_type": "code",
      "execution_count": null,
      "metadata": {
        "id": "i8y7-BA_fG3c"
      },
      "outputs": [],
      "source": [
        "def f(x):\n",
        "    return np.sin(x)"
      ]
    },
    {
      "cell_type": "code",
      "execution_count": null,
      "metadata": {
        "id": "0FJqQxHWfG3c"
      },
      "outputs": [],
      "source": [
        "optimize.root(f,-1)"
      ]
    },
    {
      "cell_type": "code",
      "execution_count": null,
      "metadata": {
        "id": "Eso-EPU-fG3c"
      },
      "outputs": [],
      "source": []
    },
    {
      "cell_type": "markdown",
      "metadata": {
        "id": "uk7emvB1fG3h"
      },
      "source": [
        "## Linear programming\n",
        "A very common case is linear programming (LP). These are optimization problems that can be written in the form\n",
        "\n",
        "$$\n",
        "\\begin{equation}\n",
        "\\begin{split}\n",
        "\\text{minimize} \\;\\; & c^{T}x  \\\\\n",
        "\\text{subject to} \\;\\; & A_{ub}x \\leq b_{ub} \\\\\n",
        "& A_{eq}x = b_{eq}\n",
        "\\end{split}\n",
        "\\end{equation}\n",
        "$$\n",
        "\n",
        "Here, we are finding the vector $x$ that minimizes the dot product $c^T x$, where $c$ is some fixed vector, out of all $x$ that satisfy $A_{ub}x \\leq b_{ub}$ and $A_{eq}x = b_{eq}$, where $A_{ub}$ and $A_{eq}$ are matrices and $b_{ub}$ and $b_{eq}$ are vectors."
      ]
    },
    {
      "cell_type": "markdown",
      "metadata": {
        "id": "t_eSPPlFfG3h"
      },
      "source": [
        "## Exercise 6\n",
        "Using Google and reading documentation are important parts of programming. `scipy.optimize` comes with specialized functions for solving linear programming problems.\n",
        "\n",
        "Figure out how to solve LPs using `scipy.optimize`, and solve the following LP:\n",
        "$$\n",
        "\\begin{equation}\n",
        "\\begin{split}\n",
        "\\text{minimize} \\;\\; & x_1 + 2 x_2  \\\\\n",
        "\\text{subject to} \\;\\; & x_1 \\leq 1 \\\\\n",
        "& 5 x_1 + x_2 \\geq 0\n",
        "\\end{split}\n",
        "\\end{equation}\n",
        "$$\n",
        "\n",
        "Note that the problem is equivalent to\n",
        "\n",
        "$$\n",
        "\\begin{equation}\n",
        "\\begin{split}\n",
        "\\text{minimize} \\;\\; & c^T x  \\\\\n",
        "\\text{subject to} \\;\\; & A_{ub}x \\leq b_{ub} \\\\\n",
        "& A_{eq}x = b_{eq}\n",
        "\\end{split}\n",
        "\\end{equation}\n",
        "$$\n",
        "where\n",
        "$$\n",
        "c = \\begin{pmatrix} 1 \\\\ 2 \\end{pmatrix} \\qquad\n",
        "A_{ub} = \\begin{pmatrix} 1 & 0 \\\\ -5 & -1 \\end{pmatrix}, \\qquad\n",
        "b_{ub} = \\begin{pmatrix} 1 \\\\ 0 \\end{pmatrix}, \\qquad\n",
        "A_{eq} = 0, \\qquad\n",
        "b_{eq} = 0.\n",
        "$$\n",
        "\n",
        "We can see this because\n",
        "$$\n",
        " \\begin{pmatrix} 1 & 0 \\\\ -5 & -1 \\end{pmatrix} \\begin{pmatrix} x_1 \\\\ x_2 \\end{pmatrix} = \\begin{pmatrix} x_1 \\\\ -5x_1 - x_2 \\end{pmatrix}\n",
        "$$"
      ]
    },
    {
      "cell_type": "code",
      "execution_count": null,
      "metadata": {
        "id": "N-dslE0UfG3h"
      },
      "outputs": [],
      "source": []
    },
    {
      "cell_type": "markdown",
      "metadata": {
        "id": "2X9_-KFEfG3i"
      },
      "source": [
        "## Statistics : `scipy.stats`"
      ]
    },
    {
      "cell_type": "code",
      "execution_count": null,
      "metadata": {
        "id": "oXAI4i6kfG3i"
      },
      "outputs": [],
      "source": [
        "from scipy import stats"
      ]
    },
    {
      "cell_type": "markdown",
      "metadata": {
        "id": "SAde-T0PfG3i"
      },
      "source": [
        "Find the maximum likelihood estimate for parameters"
      ]
    },
    {
      "cell_type": "code",
      "execution_count": null,
      "metadata": {
        "id": "mbG1Bfo-fG3i"
      },
      "outputs": [],
      "source": [
        "samples = 3*np.random.randn(1000)+2\n",
        "plt.hist(samples);"
      ]
    },
    {
      "cell_type": "code",
      "execution_count": null,
      "metadata": {
        "id": "qtYCdh-9fG3i"
      },
      "outputs": [],
      "source": [
        "stats.norm.fit(samples)"
      ]
    },
    {
      "cell_type": "code",
      "execution_count": null,
      "metadata": {
        "id": "_WuJlpVLfG3i"
      },
      "outputs": [],
      "source": [
        "a = np.random.randn(300)\n",
        "b = np.random.randn(300) + 0.1"
      ]
    },
    {
      "cell_type": "code",
      "execution_count": null,
      "metadata": {
        "id": "CqmMFuYVfG3i"
      },
      "outputs": [],
      "source": [
        "stats.ttest_ind(a,b)"
      ]
    },
    {
      "cell_type": "markdown",
      "metadata": {
        "id": "fnA4xATzfG3i"
      },
      "source": [
        "You can also perform kernel density estimation"
      ]
    },
    {
      "cell_type": "code",
      "execution_count": null,
      "metadata": {
        "id": "mG2YdG6qfG3i"
      },
      "outputs": [],
      "source": [
        "x = np.concatenate(( 2*np.random.randn(1000)+5,  0.6*np.random.randn(1000)-1) )"
      ]
    },
    {
      "cell_type": "code",
      "execution_count": null,
      "metadata": {
        "id": "6MF21ThffG3i"
      },
      "outputs": [],
      "source": [
        "plt.hist(x);"
      ]
    },
    {
      "cell_type": "code",
      "execution_count": null,
      "metadata": {
        "id": "nsGtarZjfG3i"
      },
      "outputs": [],
      "source": [
        "pdf = stats.kde.gaussian_kde(x)"
      ]
    },
    {
      "cell_type": "code",
      "execution_count": null,
      "metadata": {
        "id": "muGheV7cfG3i"
      },
      "outputs": [],
      "source": [
        "type(pdf)"
      ]
    },
    {
      "cell_type": "code",
      "execution_count": null,
      "metadata": {
        "id": "ALML-kBafG3i"
      },
      "outputs": [],
      "source": [
        "counts,bins,_ = plt.hist(x)\n",
        "x_fine=np.linspace(-2,10,100)\n",
        "plt.plot(x_fine,np.sum(counts)*pdf(x_fine))"
      ]
    },
    {
      "cell_type": "markdown",
      "metadata": {
        "id": "Nq7i3g3ffG3i"
      },
      "source": [
        "## Numerical Integration : `scipy.integrate`"
      ]
    },
    {
      "cell_type": "code",
      "execution_count": null,
      "metadata": {
        "id": "Jc4CdD5pfG3j"
      },
      "outputs": [],
      "source": [
        "import scipy.integrate as integ"
      ]
    },
    {
      "cell_type": "markdown",
      "metadata": {
        "id": "3OVOU4PVfG3j"
      },
      "source": [
        "You can compute integral using the `quad` funtion"
      ]
    },
    {
      "cell_type": "code",
      "execution_count": null,
      "metadata": {
        "id": "lN8XKM4lfG3j"
      },
      "outputs": [],
      "source": [
        "def f(x):\n",
        "    return x**2 + 5*x + np.sin(x)"
      ]
    },
    {
      "cell_type": "code",
      "execution_count": null,
      "metadata": {
        "id": "7ifb3xEhfG3j"
      },
      "outputs": [],
      "source": [
        "integ.quad(f,-1,1)"
      ]
    },
    {
      "cell_type": "code",
      "execution_count": null,
      "metadata": {
        "id": "6KjUJpanfG3j"
      },
      "outputs": [],
      "source": [
        "integ.quad?"
      ]
    },
    {
      "cell_type": "markdown",
      "metadata": {
        "id": "LmtkA_FNfG3j"
      },
      "source": [
        "You can also solve ODEs of the form\n",
        "$$ \\frac{dy}{dt} = f(y,t) $$"
      ]
    },
    {
      "cell_type": "code",
      "execution_count": null,
      "metadata": {
        "id": "4KDE8v8afG3j"
      },
      "outputs": [],
      "source": [
        "def f(y,t):\n",
        "    return (y[1], -y[1]-9*y[0])"
      ]
    },
    {
      "cell_type": "code",
      "execution_count": null,
      "metadata": {
        "id": "jTXRg-MifG3j"
      },
      "outputs": [],
      "source": [
        "t = np.linspace(0,10,100)\n",
        "Y = integ.odeint(f,[1,1],t)"
      ]
    },
    {
      "cell_type": "code",
      "execution_count": null,
      "metadata": {
        "id": "lwwY7PcYfG3k"
      },
      "outputs": [],
      "source": [
        "plt.plot(t,Y[:,1])"
      ]
    },
    {
      "cell_type": "markdown",
      "metadata": {
        "id": "nzR_5IqufG3k"
      },
      "source": [
        "## Physical simulation\n",
        "Let's simulate a throwing a ball in two dimensions. The ball is described as a function of time by four functions: $x(t), y(t), v_x(t), v_y(t)$, which are governed by the ODE system:\n",
        "\n",
        "$$\n",
        "    \\frac{dx}{dt} = v_x, \\qquad\n",
        "    \\frac{dy}{dt} = v_y, \\qquad\n",
        "    \\frac{dv_x}{dt} = 0, \\qquad\n",
        "    \\frac{dv_y}{dt} = -g.\n",
        "$$\n",
        "\n",
        "We can think of this in vectorized form as:\n",
        "\n",
        "$$\n",
        "    \\frac{d}{dt} \\begin{pmatrix} x \\\\ y \\\\ v_x \\\\ v_y \\end{pmatrix} = \\begin{pmatrix} v_x \\\\ v_y \\\\ 0 \\\\ -g \\end{pmatrix}\n",
        "$$"
      ]
    },
    {
      "cell_type": "code",
      "execution_count": null,
      "metadata": {
        "id": "MICDMc5BfG3k"
      },
      "outputs": [],
      "source": [
        "def dzdt(z, t):\n",
        "    x, y, vx, vy = z\n",
        "    g = 1\n",
        "    return np.array([vx, vy, 0, -g])"
      ]
    },
    {
      "cell_type": "code",
      "execution_count": null,
      "metadata": {
        "id": "q632RqhtfG3k"
      },
      "outputs": [],
      "source": [
        "np.linspace(0, 50, 20)"
      ]
    },
    {
      "cell_type": "code",
      "execution_count": null,
      "metadata": {
        "id": "rYCCDoBWfG3k"
      },
      "outputs": [],
      "source": [
        "import matplotlib.pyplot as plt"
      ]
    },
    {
      "cell_type": "code",
      "execution_count": null,
      "metadata": {
        "id": "BkR4YeeifG3l"
      },
      "outputs": [],
      "source": [
        "x, y = 0, 0\n",
        "vx, vy = 1, 20\n",
        "z = np.array([x, y, vx, vy])\n",
        "t = np.linspace(0, 50, 20)\n",
        "\n",
        "result = integ.odeint(dzdt, z, t)\n",
        "\n",
        "plt.scatter(result[:, 0], result[:, 1])\n",
        "plt.show()"
      ]
    },
    {
      "cell_type": "markdown",
      "metadata": {
        "id": "X1RyUYTKfG3l"
      },
      "source": [
        "## Exercise 7\n",
        "We can add drag with the following slight modification to the ODE, which adds a force with direction opposing the current velocity, and with magnitude proportional to the velocity squared.\n",
        "    \n",
        "$$\n",
        "    \\frac{d}{dt} \\begin{pmatrix} x \\\\ y \\\\ v_x \\\\ v_y \\end{pmatrix} = \\begin{pmatrix} v_x \\\\ v_y \\\\ -\\alpha v_x \\sqrt{v_x^2 + v_y^2} \\\\ -g -\\alpha v_y \\sqrt{v_x^2 + v_y^2} \\end{pmatrix}\n",
        "$$\n",
        "\n",
        "Implement this with $\\alpha = 0.001$, plot the resulting trajectory, and compare to the dragless case."
      ]
    },
    {
      "cell_type": "code",
      "execution_count": null,
      "metadata": {
        "id": "7X3e6UqcfG3l"
      },
      "outputs": [],
      "source": []
    },
    {
      "cell_type": "code",
      "execution_count": null,
      "metadata": {
        "id": "tuvJoTx8fG3l"
      },
      "outputs": [],
      "source": []
    },
    {
      "cell_type": "markdown",
      "metadata": {
        "id": "5j1pEDv-fG3l"
      },
      "source": [
        "# Other useful packages\n",
        "\n",
        "## `networkx`\n",
        "Useful Package to handle graphs.\n",
        "\n",
        "Install by running `conda install networkx`"
      ]
    },
    {
      "cell_type": "code",
      "execution_count": null,
      "metadata": {
        "id": "NcIfYjm3fG3l"
      },
      "outputs": [],
      "source": [
        "import networkx as nx"
      ]
    },
    {
      "cell_type": "code",
      "execution_count": null,
      "metadata": {
        "id": "wQVX1NsHfG3l"
      },
      "outputs": [],
      "source": [
        "G = nx.Graph()\n",
        "G.add_nodes_from([1,2,3,4])\n",
        "G.add_edge(1,2)\n",
        "G.add_edge(2,3)\n",
        "G.add_edge(3,1)\n",
        "G.add_edge(3,4)\n"
      ]
    },
    {
      "cell_type": "code",
      "execution_count": null,
      "metadata": {
        "id": "V94zHeobfG3l"
      },
      "outputs": [],
      "source": [
        "nx.draw?"
      ]
    },
    {
      "cell_type": "code",
      "execution_count": null,
      "metadata": {
        "id": "Su5D1m5LfG3l"
      },
      "outputs": [],
      "source": [
        "G = nx.complete_graph(10)\n",
        "nx.draw(G)"
      ]
    },
    {
      "cell_type": "markdown",
      "metadata": {
        "id": "SIcWFMHSfG3l"
      },
      "source": [
        "## `sympy`\n",
        "\n",
        "Package for performing symbolic computation and manipulation.\n",
        "\n",
        "Install it in your environment by running `conda install sympy`"
      ]
    },
    {
      "cell_type": "code",
      "execution_count": null,
      "metadata": {
        "id": "FU4Q0MqMfG3l"
      },
      "outputs": [],
      "source": [
        "from sympy import *"
      ]
    },
    {
      "cell_type": "code",
      "execution_count": null,
      "metadata": {
        "id": "J9CaKqctfG3l"
      },
      "outputs": [],
      "source": [
        "x,y = symbols(\"x y\")"
      ]
    },
    {
      "cell_type": "code",
      "execution_count": null,
      "metadata": {
        "id": "O9-3M00GfG3l"
      },
      "outputs": [],
      "source": [
        "x"
      ]
    },
    {
      "cell_type": "code",
      "execution_count": null,
      "metadata": {
        "id": "npmDUXiZfG3l"
      },
      "outputs": [],
      "source": [
        "expr = x+y**2"
      ]
    },
    {
      "cell_type": "code",
      "execution_count": null,
      "metadata": {
        "id": "c0tv935ZfG3l"
      },
      "outputs": [],
      "source": [
        "expr"
      ]
    },
    {
      "cell_type": "code",
      "execution_count": null,
      "metadata": {
        "id": "5GnSAL28fG3l"
      },
      "outputs": [],
      "source": [
        "# in colab run this to get latex output\n",
        "# init_printing(use_latex='matplotlib')"
      ]
    },
    {
      "cell_type": "code",
      "execution_count": null,
      "metadata": {
        "id": "U7LnY7DGfG3l"
      },
      "outputs": [],
      "source": [
        "x*expr"
      ]
    },
    {
      "cell_type": "code",
      "execution_count": null,
      "metadata": {
        "id": "JVksH-01fG3m"
      },
      "outputs": [],
      "source": [
        "expand(x*expr)"
      ]
    },
    {
      "cell_type": "code",
      "execution_count": null,
      "metadata": {
        "id": "Ey1pJrBafG3m"
      },
      "outputs": [],
      "source": [
        "factor(x**2 -2*x*y + y**2)"
      ]
    },
    {
      "cell_type": "code",
      "execution_count": null,
      "metadata": {
        "id": "51PpC7uyfG3m"
      },
      "outputs": [],
      "source": [
        "latex(expr)"
      ]
    },
    {
      "cell_type": "code",
      "execution_count": null,
      "metadata": {
        "id": "K2ip6PpdfG3m"
      },
      "outputs": [],
      "source": [
        "simplify( (x-y)**2 + (x+y)**2)"
      ]
    },
    {
      "cell_type": "code",
      "execution_count": null,
      "metadata": {
        "id": "tGSkDBj8fG3m"
      },
      "outputs": [],
      "source": [
        "x**2/(y**3+y)"
      ]
    },
    {
      "cell_type": "code",
      "execution_count": null,
      "metadata": {
        "id": "taG5R1SsfG3m"
      },
      "outputs": [],
      "source": [
        "(x**2/(y**3+y)).subs(y,1/(1+x)).simplify()"
      ]
    },
    {
      "cell_type": "code",
      "execution_count": null,
      "metadata": {
        "id": "eUBvWL35fG3m"
      },
      "outputs": [],
      "source": [
        "(x**2/(y**3+y)).evalf(subs={'x':2, 'y':4})"
      ]
    },
    {
      "cell_type": "code",
      "execution_count": null,
      "metadata": {
        "id": "1gcw2zfGfG3m"
      },
      "outputs": [],
      "source": [
        "Integral(exp(-x**2 - y**2), (x, -oo, oo), (y, -oo, oo))"
      ]
    },
    {
      "cell_type": "code",
      "execution_count": null,
      "metadata": {
        "id": "hf619LD0fG3m"
      },
      "outputs": [],
      "source": [
        "I = Integral(exp(-x**2 - y**2), (x, -oo, oo), (y, -oo, oo))"
      ]
    },
    {
      "cell_type": "code",
      "execution_count": null,
      "metadata": {
        "id": "d0rjCSATfG3m"
      },
      "outputs": [],
      "source": [
        "I.doit()"
      ]
    },
    {
      "cell_type": "code",
      "execution_count": null,
      "metadata": {
        "id": "qFHsWlFPfG3m"
      },
      "outputs": [],
      "source": [
        "(sin(x)/(1+cos(x)))"
      ]
    },
    {
      "cell_type": "code",
      "execution_count": null,
      "metadata": {
        "id": "69TWMWEIfG3m"
      },
      "outputs": [],
      "source": [
        "(sin(x)/(1+cos(x))).series(x,0,10)"
      ]
    },
    {
      "cell_type": "markdown",
      "metadata": {
        "id": "Llg1Y7irfG3m"
      },
      "source": [
        "## Extra Exercises\n",
        "The following exercises requires the combined usage of the packages we learnt today.\n",
        "\n",
        "1. Generate 10 random polynomials of order 5\n",
        "    - Numerically and analytically integrate them from 0 to 1 and compare the answers.\n",
        "    - Compute one minima for each polynomial and show that the analytically computed derivative is 0 at the minima\n",
        "    - Randomly sample the polynomials in the range from 0 to 1, and see if you can recover the original coefficents by trying to fit a 5th order polynomial to the samples.\n",
        "2. Read and learn about [Erdos-Renyi Random Graphs](https://en.wikipedia.org/wiki/Erd%C5%91s%E2%80%93R%C3%A9nyi_model). See if you can numerically verify some of the properties mentioned in the wiki, such as for what parameter values is the graph most likely connected."
      ]
    },
    {
      "cell_type": "code",
      "execution_count": null,
      "metadata": {
        "id": "eqp4BtBqfG3m"
      },
      "outputs": [],
      "source": []
    }
  ],
  "metadata": {
    "colab": {
      "provenance": []
    },
    "kernelspec": {
      "display_name": "Python (3.6-cme193_new)",
      "language": "python",
      "name": "cme193_new"
    },
    "language_info": {
      "codemirror_mode": {
        "name": "ipython",
        "version": 3
      },
      "file_extension": ".py",
      "mimetype": "text/x-python",
      "name": "python",
      "nbconvert_exporter": "python",
      "pygments_lexer": "ipython3",
      "version": "3.7.4"
    }
  },
  "nbformat": 4,
  "nbformat_minor": 0
}
