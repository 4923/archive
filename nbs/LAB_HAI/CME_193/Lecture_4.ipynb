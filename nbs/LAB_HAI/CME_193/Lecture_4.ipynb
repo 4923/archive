{
  "cells": [
    {
      "cell_type": "markdown",
      "metadata": {},
      "source": [
        "---\n",
        "title-block-banner: true\n",
        "title: \"CME 193 - Lecture 4\"\n",
        "subtitle: \"Introduction to Scientific Python / [cme193.stanford.edu](http://cme193.stanford.edu).\"\n",
        "description: random numbers, histograms / power method walkthrough / linear algebra\n",
        "categories:\n",
        "    - tutorial\n",
        "    - theory\n",
        "    - Python\n",
        "---"
      ]
    },
    {
      "cell_type": "markdown",
      "metadata": {
        "id": "seIM6ciwLUpT"
      },
      "source": [
        "# CME 193 - Lecture 4\n",
        "\n",
        "- Random numbers and histograms\n",
        "- Power method walkthrough\n",
        "- Linear algebra functions\n"
      ]
    },
    {
      "cell_type": "markdown",
      "metadata": {
        "id": "mr2CjXSuLUpT"
      },
      "source": [
        "## Random numbers\n",
        "\n",
        "see [the documentation](https://docs.scipy.org/doc/numpy-1.14.0/reference/routines.random.html)\n",
        "\n",
        "* `rng.rand(d0,d1,...,dn)`, Random values in a given shape\n",
        "* `rng.randn(d0, d1, ...,dn)`, Random standard normal\n",
        "* `rng.randint(lo, hi, size)`, Random integers `[lo, hi)`\n",
        "* `rng.choice(a, size, repl, p)`, Sample from a\n",
        "* `rng.shuffle(a)`, Permutation (in-place)\n",
        "* `rng.permutation(a)`, Permutation (new array)\n",
        "* Also, have parameterized distributions: `beta`, `binomial`, `chisquare`, `exponential`, `dirichlet`, `gamma`, `laplace`, `lognormal`, `pareto`, `poisson`, `power`..."
      ]
    },
    {
      "cell_type": "code",
      "execution_count": null,
      "metadata": {
        "id": "W8wHvfzELUpU"
      },
      "outputs": [],
      "source": [
        "import numpy.random as rng"
      ]
    },
    {
      "cell_type": "code",
      "execution_count": null,
      "metadata": {
        "id": "i806ecqWLUpX"
      },
      "outputs": [],
      "source": [
        "rng.randint(-10,10)"
      ]
    },
    {
      "cell_type": "code",
      "execution_count": null,
      "metadata": {
        "id": "GaqvAwCiLUpa"
      },
      "outputs": [],
      "source": [
        "rng.choice?"
      ]
    },
    {
      "cell_type": "markdown",
      "metadata": {
        "id": "wLaXdH6lLUpc"
      },
      "source": [
        "### Histograms"
      ]
    },
    {
      "cell_type": "code",
      "execution_count": null,
      "metadata": {
        "id": "5---T8gbLUpc"
      },
      "outputs": [],
      "source": [
        "x1 = rng.normal(2,3,1000)\n",
        "x2 = rng.normal(1,5,1000)"
      ]
    },
    {
      "cell_type": "code",
      "execution_count": null,
      "metadata": {
        "id": "jATiDpuHLUpe"
      },
      "outputs": [],
      "source": [
        "plt.hist(x1);"
      ]
    },
    {
      "cell_type": "code",
      "execution_count": null,
      "metadata": {
        "id": "YpyoMHO6LUpg"
      },
      "outputs": [],
      "source": [
        "plt.hist(x1,histtype='step')\n",
        "plt.hist(x2,histtype='step')"
      ]
    },
    {
      "cell_type": "code",
      "execution_count": null,
      "metadata": {
        "id": "4Uul_E-ALUph"
      },
      "outputs": [],
      "source": [
        "plt.hist(x1,bins=100);"
      ]
    },
    {
      "cell_type": "code",
      "execution_count": null,
      "metadata": {
        "id": "Ps1X1nY5LUpj"
      },
      "outputs": [],
      "source": [
        "plt.hist2d(x1,x2);"
      ]
    },
    {
      "cell_type": "markdown",
      "metadata": {
        "id": "NjxdxugULUpk"
      },
      "source": [
        "## Power method\n",
        "\n",
        "Power method is an algorithm for finding the largest eigenpair of a matrix.  We'll assume that we're working with symmetric/hermitian matrices for simplicity.  Recall the largest eigenvector of a matrix $A$ solves the variational problem:\n",
        "$$\\max_{\\|v\\|_2 = 1} v^T A v$$\n",
        "The eigenvalue is the value $\\lambda = v^T A v$.\n",
        "* generate a random symmetric matrix (however you like).\n",
        "* Find the largest eigenpair using the power method\n",
        "* Compare the answer with what you would get from numpy.linalg.eigh\n",
        "\n",
        "The power method uses iterated matrix-vector multiplication to find the largest magnitude eigenvalue of $A$.  \n",
        "```\n",
        "    input) A: an n x n symmetric matrix\n",
        "    outputs) l: the eigenvalue with the largest absolute value\n",
        "             v: the corresponding eigenvector\n",
        "\n",
        "    v <- random vector of length n\n",
        "    while l has not converged:\n",
        "        v <- A v\n",
        "        v <- v / ||v||_2\n",
        "        l <- v^T A v\n",
        "```\n",
        "\n",
        "turn the above pseudo-code into a python function that implements power method. How does the result compare to `eigh`?"
      ]
    },
    {
      "cell_type": "code",
      "execution_count": null,
      "metadata": {
        "id": "ev-KvR75LUpl"
      },
      "outputs": [],
      "source": []
    },
    {
      "cell_type": "code",
      "execution_count": null,
      "metadata": {
        "id": "GyYXZAZuLUpo"
      },
      "outputs": [],
      "source": []
    },
    {
      "cell_type": "code",
      "execution_count": null,
      "metadata": {
        "id": "jkVQJicuLUpq"
      },
      "outputs": [],
      "source": []
    },
    {
      "cell_type": "markdown",
      "metadata": {
        "id": "AbRPLroRLUpr"
      },
      "source": [
        "# Linear Algebra in NumPy\n",
        "\n",
        "We'll start with\n",
        "```python\n",
        "import numpy.linalg as la\n",
        "```\n",
        "`numpy` is the *package*.  `linalg` is a *module* in the package."
      ]
    },
    {
      "cell_type": "code",
      "execution_count": null,
      "metadata": {
        "id": "DaSURwNOLUps"
      },
      "outputs": [],
      "source": [
        "import numpy.linalg as la"
      ]
    },
    {
      "cell_type": "markdown",
      "metadata": {
        "id": "m5QRDKVYLUpt"
      },
      "source": [
        "You can find a full list of available operations/decompositions in [the documentation](https://docs.scipy.org/doc/numpy-1.15.1/reference/routines.linalg.html)\n",
        "\n",
        "* `la.eye(3)`, Identity matrix\n",
        "* `la.trace(A)`, Trace\n",
        "* `la.column_stack((A,B))`, Stack column wise\n",
        "* `la.row_stack((A,B,A))`, Stack row wise\n",
        "* `la.qr`, Computes the QR decomposition\n",
        "* `la.cholesky`, Computes the Cholesky decomposition\n",
        "* `la.inv(A)`, Inverse\n",
        "* `la.solve(A,b)`, Solves $Ax = b$ for $A$ full rank\n",
        "* `la.lstsq(A,b)`, Solves $\\arg\\min_x \\|Ax-b\\|_2$\n",
        "* `la.eig(A)`, Eigenvalue decomposition\n",
        "* `la.eigh(A)`, Eigenvalue decomposition for\n",
        "symmetric or hermitian\n",
        "* `la.eigvals(A)`, Computes eigenvalues.\n",
        "* `la.svd(A, full)`, Singular value decomposition\n",
        "* `la.pinv(A)`, Computes pseudo-inverse of A"
      ]
    },
    {
      "cell_type": "code",
      "execution_count": null,
      "metadata": {
        "id": "-c0GZd9mLUpu"
      },
      "outputs": [],
      "source": [
        "# example of SVD\n",
        "A = np.random.normal(0, 1, (2,3))\n",
        "U, S, V = la.svd(A)\n",
        "print(\"A  = \\n\", A)\n",
        "print(\"U = \\n\", U)\n",
        "print(\"S = \\n\", S)\n",
        "print(\"V = \\n\", V)"
      ]
    },
    {
      "cell_type": "code",
      "execution_count": null,
      "metadata": {
        "id": "vzMBarjgLUpv"
      },
      "outputs": [],
      "source": [
        "A = np.arange(0, 4, 1.0).reshape(2,2)\n",
        "x = np.array([1.0,2.0])\n",
        "b = A@x\n",
        "# x2 <- A \\ b\n",
        "x2 = la.solve(A,b)\n",
        "\n",
        "print(\"A = \\n\",A)\n",
        "print(\"x = \\n\", x)\n",
        "print(\"b = \\n\", b)\n",
        "print(\"x2 = \\n\", x2)"
      ]
    },
    {
      "cell_type": "code",
      "execution_count": null,
      "metadata": {
        "id": "fnEDcXxuLUpx"
      },
      "outputs": [],
      "source": []
    }
  ],
  "metadata": {
    "colab": {
      "provenance": []
    },
    "kernelspec": {
      "display_name": "Python (3.6-cme193_new)",
      "language": "python",
      "name": "cme193_new"
    },
    "language_info": {
      "codemirror_mode": {
        "name": "ipython",
        "version": 3
      },
      "file_extension": ".py",
      "mimetype": "text/x-python",
      "name": "python",
      "nbconvert_exporter": "python",
      "pygments_lexer": "ipython3",
      "version": "3.6.8"
    }
  },
  "nbformat": 4,
  "nbformat_minor": 0
}
