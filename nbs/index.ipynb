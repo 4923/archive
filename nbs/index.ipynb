{
 "cells": [
  {
   "cell_type": "markdown",
   "metadata": {},
   "source": []
  },
  {
   "cell_type": "markdown",
   "metadata": {},
   "source": [
    "---\n",
    "format:\n",
    "    html:\n",
    "        fontsize: 1rem\n",
    "        page-layout: full # article\n",
    "        \n",
    "listing:\n",
    "    contents: 'posts'\n",
    "    type: grid # grid, default, table\n",
    "    image-height: 4rem  # only for grid\n",
    "\n",
    "    # page-size: 9\n",
    "    # fields: ['title', 'subtitle', 'description', 'categories', 'reading-time']\n",
    "    fields: ['title', 'subtitle', 'categories', 'date']\n",
    "    sort:\n",
    "    - 'categories'\n",
    "    - 'title'\n",
    "    \n",
    "    max-description-length: 60\n",
    "    # image-height: 1rem\n",
    "    \n",
    "    table-hover: true\n",
    "    # categories: cloud   # false, numbered, unnumbered, cloud\n",
    "\n",
    "    sort-ui: ['title', 'categories', 'date']\n",
    "    filter-ui: true\n",
    "    \n",
    "    feed: true\n",
    "    # exclude:\n",
    "        # title: \"&nbsp;\"\n",
    "---"
   ]
  },
  {
   "cell_type": "markdown",
   "metadata": {},
   "source": []
  }
 ],
 "metadata": {
  "kernelspec": {
   "display_name": "base",
   "language": "python",
   "name": "python3"
  },
  "language_info": {
   "name": "python",
   "version": "3.9.7"
  }
 },
 "nbformat": 4,
 "nbformat_minor": 2
}
