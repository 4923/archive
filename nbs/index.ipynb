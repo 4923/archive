{
 "cells": [
  {
   "cell_type": "markdown",
   "metadata": {},
   "source": []
  },
  {
   "cell_type": "markdown",
   "metadata": {},
   "source": [
    "---\n",
    "title: Posts\n",
    "listing:\n",
    "    type: table\n",
    "    page-size: 10\n",
    "    sort:\n",
    "    - 'title'\n",
    "    - 'date'\n",
    "    fields: [title, subtitle, categories, reading-time]\n",
    "    table-hover: true\n",
    "    categories: cloud\n",
    "    sort-ui: false\n",
    "    filter-ui: false\n",
    "---"
   ]
  },
  {
   "cell_type": "markdown",
   "metadata": {},
   "source": []
  }
 ],
 "metadata": {
  "kernelspec": {
   "display_name": "base",
   "language": "python",
   "name": "python3"
  },
  "language_info": {
   "name": "python",
   "version": "3.9.7"
  }
 },
 "nbformat": 4,
 "nbformat_minor": 2
}
