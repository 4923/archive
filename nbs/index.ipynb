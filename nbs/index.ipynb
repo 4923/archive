{
 "cells": [
  {
   "cell_type": "markdown",
   "metadata": {},
   "source": []
  },
  {
   "cell_type": "markdown",
   "metadata": {},
   "source": [
    "---\n",
    "listing:\n",
    "    type: table\n",
    "    page-size: 9\n",
    "    sort:\n",
    "    - 'date'\n",
    "    - 'title'\n",
    "    fields: [title, subtitle]\n",
    "    # image-height: 5rem\n",
    "    table-hover: true\n",
    "    categories: false\n",
    "    sort-ui: false\n",
    "    filter-ui: false\n",
    "    feed: true\n",
    "    exclude:\n",
    "        title: \"&nbsp;\"\n",
    "---"
   ]
  },
  {
   "cell_type": "markdown",
   "metadata": {},
   "source": []
  }
 ],
 "metadata": {
  "kernelspec": {
   "display_name": "base",
   "language": "python",
   "name": "python3"
  },
  "language_info": {
   "name": "python",
   "version": "3.9.7"
  }
 },
 "nbformat": 4,
 "nbformat_minor": 2
}
