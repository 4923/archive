{
 "cells": [
  {
   "cell_type": "markdown",
   "metadata": {},
   "source": []
  },
  {
   "cell_type": "markdown",
   "metadata": {},
   "source": [
    "---\n",
    "listing:\n",
    "    type: grid # grid, default, table\n",
    "    image-height: 3rem  # only for grid\n",
    "\n",
    "    page-size: 9\n",
    "    fields: ['title', 'subtitle', 'description', 'categories', 'reading-time']\n",
    "    sort:\n",
    "    - 'categories'\n",
    "    - 'title'\n",
    "    \n",
    "    max-description-length: 80\n",
    "    # image-height: 5rem\n",
    "    \n",
    "    table-hover: true\n",
    "    categories: cloud   # false, numbered, unnumbered, cloud\n",
    "\n",
    "    sort-ui: false\n",
    "    filter-ui: false\n",
    "    \n",
    "    feed: true\n",
    "    exclude:\n",
    "        title: \"&nbsp;\"\n",
    "---"
   ]
  },
  {
   "cell_type": "markdown",
   "metadata": {},
   "source": []
  }
 ],
 "metadata": {
  "kernelspec": {
   "display_name": "base",
   "language": "python",
   "name": "python3"
  },
  "language_info": {
   "name": "python",
   "version": "3.9.7"
  }
 },
 "nbformat": 4,
 "nbformat_minor": 2
}
