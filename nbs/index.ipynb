{
 "cells": [
  {
   "cell_type": "markdown",
   "metadata": {},
   "source": []
  },
  {
   "cell_type": "markdown",
   "metadata": {},
   "source": [
    "---\n",
    "# title: \"&nbsp;\"\n",
    "website:\n",
    "    navbar:\n",
    "        background: \"#FFFFFF\"\n",
    "format:\n",
    "    html:\n",
    "        fontsize: 1rem\n",
    "        page-layout: full # article\n",
    "        # title-block-banner: true\n",
    "        sidebar: false\n",
    "        author: \"\"\n",
    "        date: \"\"\n",
    "listing:\n",
    "    contents: 'posts'\n",
    "    feed: true\n",
    "    type: grid # grid, default, table\n",
    "\n",
    "    # page-size: 9\n",
    "    # fields: ['title', 'subtitle', 'description', 'categories', 'reading-time']\n",
    "    fields: ['title', 'subtitle', 'categories', 'reading-time', 'date']\n",
    "    sort:\n",
    "    - 'date'\n",
    "    - 'categories'\n",
    "    - 'reading-time'\n",
    "    - 'title'\n",
    "    \n",
    "    # max-description-length: 100\n",
    "    # image-height: 1rem\n",
    "    \n",
    "    # table-hover: true\n",
    "    # categories: cloud   # false, numbered, unnumbered, cloud\n",
    "\n",
    "    sort-ui: ['title', 'categories', 'date']\n",
    "    filter-ui: true\n",
    "    \n",
    "    exclude:\n",
    "        title: \"&nbsp;\"\n",
    "---"
   ]
  },
  {
   "cell_type": "markdown",
   "metadata": {},
   "source": []
  }
 ],
 "metadata": {
  "kernelspec": {
   "display_name": "base",
   "language": "python",
   "name": "python3"
  },
  "language_info": {
   "name": "python",
   "version": "3.9.7"
  }
 },
 "nbformat": 4,
 "nbformat_minor": 2
}
