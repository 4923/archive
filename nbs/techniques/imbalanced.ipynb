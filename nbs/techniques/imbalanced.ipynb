{
 "cells": [
  {
   "attachments": {},
   "cell_type": "markdown",
   "metadata": {},
   "source": [
    "---\n",
    "title: Handling imbalanced Data\n",
    "subtitle: undersampling, oversampling, loss function, weight sampling\n",
    "description: 불균형 데이터를 다루는 방법에 대해 알아보자\n",
    "categories: \n",
    "    - technique\n",
    "author: YeEun Hong\n",
    "date: 2023-10-10\n",
    "---"
   ]
  },
  {
   "cell_type": "markdown",
   "metadata": {},
   "source": [
    "### Summary\n",
    "\n",
    "1. under sampling   : 너무 많은 양의 데이터를 잘라내는 방식\n",
    "2. over sampling    : 적은 양의 데이터를 증강하는 방식\n",
    "3. weight sampling  : 학습할 배치에 데이터가 들어갈 확률을 지정하는 방식\n",
    "4. loss function    : 적은 양의 데이터 학습과정에 가중치를 주는 방식\n",
    "\n",
    "데이터의 절대량을 조정하는 방법과 (1, 2) 학습할 때 데이터의 균형을 맞추는 방법이 (3, 4) 있다.\n",
    "\n",
    "이들 중 `weight sampling` 방법과 imbalanced data task에 적합한 `loss function`를 알아보겠다."
   ]
  },
  {
   "cell_type": "markdown",
   "metadata": {},
   "source": []
  },
  {
   "cell_type": "markdown",
   "metadata": {},
   "source": []
  },
  {
   "cell_type": "markdown",
   "metadata": {},
   "source": [
    "#### Weight sampling"
   ]
  },
  {
   "cell_type": "markdown",
   "metadata": {},
   "source": [
    "힘들다으아아아 "
   ]
  },
  {
   "cell_type": "markdown",
   "metadata": {},
   "source": [
    "```{python}\n",
    "print(test)\n",
    "```"
   ]
  },
  {
   "cell_type": "markdown",
   "metadata": {},
   "source": []
  }
 ],
 "metadata": {
  "kernelspec": {
   "display_name": "hypergraph-py38",
   "language": "python",
   "name": "python3"
  },
  "language_info": {
   "codemirror_mode": {
    "name": "ipython",
    "version": 3
   },
   "file_extension": ".py",
   "mimetype": "text/x-python",
   "name": "python",
   "nbconvert_exporter": "python",
   "pygments_lexer": "ipython3",
   "version": "3.8.16"
  },
  "orig_nbformat": 4
 },
 "nbformat": 4,
 "nbformat_minor": 2
}
