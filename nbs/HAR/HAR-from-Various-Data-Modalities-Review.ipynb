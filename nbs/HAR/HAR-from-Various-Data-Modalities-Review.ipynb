{
 "cells": [
  {
   "attachments": {},
   "cell_type": "markdown",
   "metadata": {},
   "source": [
    "---\n",
    "title: HAR-from-Various-Data-Modalities-Review\n",
    "subtitle:\n",
    "description: \n",
    "categories:\n",
    "  - HAR/modalities\n",
    "author: YeEun Hong\n",
    "date: 2022-12-25\n",
    "---"
   ]
  },
  {
   "cell_type": "markdown",
   "metadata": {},
   "source": []
  }
 ],
 "metadata": {
  "language_info": {
   "name": "python"
  },
  "orig_nbformat": 4
 },
 "nbformat": 4,
 "nbformat_minor": 2
}
