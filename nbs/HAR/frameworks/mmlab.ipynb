{
 "cells": [
  {
   "attachments": {},
   "cell_type": "markdown",
   "metadata": {},
   "source": [
    "---\n",
    "title: MMLAB\n",
    "subtitle: \n",
    "description: \n",
    "categories:\n",
    "  - HAR/frameworks\n",
    "author: YeEun Hong\n",
    "date: 2023-01-04\n",
    "---"
   ]
  },
  {
   "cell_type": "markdown",
   "metadata": {},
   "source": []
  }
 ],
 "metadata": {
  "language_info": {
   "name": "python"
  },
  "orig_nbformat": 4
 },
 "nbformat": 4,
 "nbformat_minor": 2
}
