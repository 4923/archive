{
 "cells": [
  {
   "attachments": {},
   "cell_type": "markdown",
   "metadata": {},
   "source": [
    "---\n",
    "title: Transfer graph into hypergraph\n",
    "subtitle: Expansion 기법별 Hyper-graph 에서의 Graph structure로의 전환 방법과 그 과정에서의 정보가 손실률 추적\n",
    "description: blank\n",
    "categories:\n",
    "  - HAR/benchmarks\n",
    "author: YeEun Hong\n",
    "date: 2023-05-03\n",
    "---"
   ]
  },
  {
   "attachments": {},
   "cell_type": "markdown",
   "metadata": {},
   "source": [
    "> 본 포스트에서 사용하는 framework DHG에 대한 자세한 설명은 포스트를 참고: [DHG](https://4923.github.io/archive/HAR/frameworks/dhg.html)"
   ]
  },
  {
   "attachments": {},
   "cell_type": "markdown",
   "metadata": {},
   "source": [
    "## 개요\n",
    "\n",
    "- 가설\n",
    "    - 그래프는 {} 이고 하이퍼 그래프는 {} 이다. 1:1 clique를 가지는 그래프 구조로 인해 관절 간 다층적 연결관계를 확인하기 어려운 현재 handcraft skeleton structure를 HyperGraph로 재정의하여 인체공학적 성질을 더한다.\n",
    "    - Fully connected Graph인 HD-GCN보다는 더 적은 FLOPS를, 기존 ST-GCN++ 또는 현재 SOTA에 준하는 성능을 보일 것이다.\n",
    "- 방향성\n",
    "    - 그래프는 하이퍼그래프의 특수한 경우로, 많은 HAR 기법이 Graph Based Model을 차용하고 있으므로 인체 구조를 HyperGraph로 정의한 후 Graph로 변환한다.\n",
    "    - 이 때 정보가 손실을 확인하고, 모델에 입력값으로 넣을 방법을 찾는다.\n",
    "    \n",
    "- 대안적 방향: Graph를 HyperGraph로 변환하여 HyperGraph 모델인 `HGCN`, `HGNN`, `HGNN++` 에 입력하는 방법을 찾는다.\n",
    "    > 위 방향은 새로운 노트북을 통해 실험할 것.\n",
    "    - HyperNeuralNetwork는 학습할 수 있는 데이터의 형태가 정해져 있으므로 데이터셋을 변환하는 방법에 대해 확인하고 찾아보아야 한다.\n",
    "    - 이 때에도 단순 NTU style to Cora style 변형이 아닌 관절 간 다층적 연결관계를 반영해야 할 것이다.\n"
   ]
  },
  {
   "attachments": {},
   "cell_type": "markdown",
   "metadata": {},
   "source": [
    "### 실험 방법\n",
    "1. Expansion\n",
    "    1. HyperGraph handling framework `dhg` 를 사용하여 임의의 HyperGraph를 생성하고 Incidence Matrix를 정의한다.\n",
    "    2. expansion 기법은 총 세가지인데, 각 방법에 따라 HyperGraph를 Graph 구조로 변형하며 Adjacency Matrix로 변형한다.\n",
    "    3. 이 때 결과가 되는 Adjacency Matrix의 형태가 어떻게 변화하는지 추적한다.\n",
    "2. 각 expansion 별 정보가 손실률을 측정한다. 이 때 정보가를 정의하는 방법 또한 정의해야한다.\n",
    "\n",
    "### 실험 목표\n",
    "1. 임의의 Incidence Matrix를 가지는 Hyper-graph structure $H$를 dhg에서 제공하는 expansion 기법을 사용하여 Graph $G$로 변환했을 때 어떤 Adjacency Matrix가 나오는지 확인한다.\n",
    "2. $H$가 $G$로 변환할 때 $H$ 의 정보가를 95% 이상 유지하는 expansion 방법을 찾는다.\n",
    "3. 각각을 baseline으로 삼은 `DG-STGCN`에 입력값으로 넣어 학습 결과를 비교한다."
   ]
  },
  {
   "attachments": {},
   "cell_type": "markdown",
   "metadata": {},
   "source": [
    "### 실험 과정\n",
    "\n",
    "- 모든 sample code는 [dhg의 expansion example](https://deephypergraph.readthedocs.io/en/latest/tutorial/structure.html#reduced-from-high-order-structures) 을 따른다."
   ]
  },
  {
   "attachments": {},
   "cell_type": "markdown",
   "metadata": {},
   "source": [
    "### Star Expansion"
   ]
  },
  {
   "cell_type": "code",
   "execution_count": null,
   "metadata": {},
   "outputs": [],
   "source": []
  },
  {
   "attachments": {},
   "cell_type": "markdown",
   "metadata": {},
   "source": [
    "### Clique Expansion"
   ]
  },
  {
   "cell_type": "code",
   "execution_count": null,
   "metadata": {},
   "outputs": [],
   "source": []
  },
  {
   "attachments": {},
   "cell_type": "markdown",
   "metadata": {},
   "source": [
    "### HyperGCN based Expansion"
   ]
  },
  {
   "cell_type": "code",
   "execution_count": null,
   "metadata": {},
   "outputs": [],
   "source": []
  },
  {
   "attachments": {},
   "cell_type": "markdown",
   "metadata": {},
   "source": [
    "### 실험 결과 및 분석"
   ]
  },
  {
   "attachments": {},
   "cell_type": "markdown",
   "metadata": {},
   "source": [
    "### 고찰"
   ]
  },
  {
   "cell_type": "markdown",
   "metadata": {},
   "source": []
  }
 ],
 "metadata": {
  "kernelspec": {
   "display_name": "hypergraph-py38",
   "language": "python",
   "name": "python3"
  },
  "language_info": {
   "name": "python",
   "version": "3.8.16"
  },
  "orig_nbformat": 4
 },
 "nbformat": 4,
 "nbformat_minor": 2
}
