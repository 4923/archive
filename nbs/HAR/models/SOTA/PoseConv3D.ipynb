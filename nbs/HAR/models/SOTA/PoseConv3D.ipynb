{
 "cells": [
  {
   "attachments": {},
   "cell_type": "markdown",
   "metadata": {},
   "source": [
    "---\n",
    "title: PoseConv3D\n",
    "subtitle: blank\n",
    "description: blank\n",
    "categories: HAR/models/SOTA\n",
    "author: YeEun Hong\n",
    "---"
   ]
  },
  {
   "cell_type": "markdown",
   "metadata": {},
   "source": []
  }
 ],
 "metadata": {
  "language_info": {
   "name": "python"
  },
  "orig_nbformat": 4
 },
 "nbformat": 4,
 "nbformat_minor": 2
}
