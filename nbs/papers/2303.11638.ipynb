{
 "cells": [
  {
   "attachments": {},
   "cell_type": "markdown",
   "metadata": {},
   "source": [
    "---\n",
    "title: PCT\n",
    "subtitle: Human Pose as Compositional Token\n",
    "description: (arxiv:2303.11638) https://sites.google.com/view/pctpose\n",
    "categories:\n",
    "    - LLM\n",
    "    - PCT\n",
    "    - HAR\n",
    "author: YeEun Hong\n",
    "date: 2023.11.11\n",
    "---"
   ]
  },
  {
   "attachments": {},
   "cell_type": "markdown",
   "metadata": {},
   "source": []
  }
 ],
 "metadata": {
  "kernelspec": {
   "display_name": "base",
   "language": "python",
   "name": "python3"
  },
  "language_info": {
   "codemirror_mode": {
    "name": "ipython",
    "version": 3
   },
   "file_extension": ".py",
   "mimetype": "text/x-python",
   "name": "python",
   "nbconvert_exporter": "python",
   "pygments_lexer": "ipython3",
   "version": "3.9.7"
  },
  "orig_nbformat": 4
 },
 "nbformat": 4,
 "nbformat_minor": 2
}
