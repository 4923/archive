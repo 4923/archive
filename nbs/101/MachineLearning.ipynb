{
 "cells": [
  {
   "attachments": {},
   "cell_type": "markdown",
   "metadata": {},
   "source": [
    "---\n",
    "title: Machine Learning 101\n",
    "subtitle: Jason's Machine Learning 101\n",
    "description: 머신러닝 기초 이론\n",
    "categories:\n",
    "    - ML\n",
    "    - theory\n",
    "author: YeEun Hong\n",
    "date: 2023-12-19\n",
    "---"
   ]
  },
  {
   "cell_type": "markdown",
   "metadata": {},
   "source": []
  }
 ],
 "metadata": {
  "kernelspec": {
   "display_name": "hypergraph-py38",
   "language": "python",
   "name": "python3"
  },
  "language_info": {
   "name": "python",
   "version": "3.8.16"
  },
  "orig_nbformat": 4
 },
 "nbformat": 4,
 "nbformat_minor": 2
}
