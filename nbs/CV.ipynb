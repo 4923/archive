{
 "cells": [
  {
   "cell_type": "markdown",
   "metadata": {},
   "source": [
    "---\n",
    "title: \"&nbsp;\"\n",
    "website:\n",
    "  navbar:\n",
    "    background: \"#FFFFFF\"\n",
    "format:\n",
    "  html:\n",
    "    # layout\n",
    "    page-layout: full # article\n",
    "    repo-actions: false\n",
    "    title-block-banner: false\n",
    "    \n",
    "    # remove\n",
    "    toc: false\n",
    "    sidebar: false\n",
    "    author: \"\"\n",
    "    date: \"\"\n",
    "    \n",
    "    # font\n",
    "    mainfont: \"Times New Roman\"\n",
    "---"
   ]
  },
  {
   "cell_type": "markdown",
   "metadata": {},
   "source": [
    "\n",
    ":::{.column-page-inset}\n",
    "\n",
    "## YeEun Hong\n",
    "\n",
    "Focusing on how technology, especially AI, can solve blind spots in society.  \n",
    "Solve what no one wants to do and hardly achieve only by manpower.\n",
    "\n",
    "- Contact: [4923.py@gmail.com](4923.py@gmail.com) \n",
    "- Present: Internship in Lab HAI, HUFS\n",
    "\n",
    "\n",
    ":::"
   ]
  },
  {
   "cell_type": "markdown",
   "metadata": {},
   "source": [
    "<br>"
   ]
  },
  {
   "cell_type": "markdown",
   "metadata": {},
   "source": [
    "\n",
    ":::{.column-page-inset}\n",
    "\n",
    "### Skills & Experience Summary  \n",
    "\n",
    "---\n",
    "\n",
    "#### Artificial Intelligence  \n",
    "\n",
    "- $\\small{1}$ year experience researching Skeleton-based Human Action Recognition; <u>GNN</u>  \n",
    "- Have CV projects experience using RESNET, vanilla <u>TensorFlow</u>, <u>PyTorch</u>, etc  \n",
    "- Have NLP projects experience using <u>huggingface</u>, and various models  \n",
    "- Have handling generative AI experience. such as <u>LLM and its instruction tuning</u>, TTS, etc  \n",
    "- Have time-series forecast projects experience using own EDA strategy and ML models.  \n",
    "\n",
    "#### Software Engineering  \n",
    "\n",
    "- $\\small{3^+}$ years <u>Python</u> Programming experience, related to machine learning  \n",
    "- $\\small{3^+}$ years of <u>Github</u> corporation experience using Github Action, Issue, PR $\\cdots$  \n",
    "- $\\small{2^+}$ years of Web programming experience using <u>Django</u>, handling CRUD, API  \n",
    "- As a FE engineer, Have project using <u>Svelte</u>, HTML/CSS/JS communicating BE engineer  \n",
    "  \n",
    "\n",
    ":::"
   ]
  },
  {
   "cell_type": "markdown",
   "metadata": {},
   "source": [
    "<br>"
   ]
  },
  {
   "cell_type": "markdown",
   "metadata": {},
   "source": [
    "\n",
    ":::{.column-page-inset}\n",
    "\n",
    "\n",
    "### Careers\n",
    "\n",
    "---\n",
    "\n",
    "- Artificial Intelligence Research Internship | [EverEx](https://www.everex.kr/) (Oct 2022 - Jan 2024) <br>\n",
    "    - Researching for Human Action Recognition: skeleton-based Action Recognition<br>\n",
    "    - mainly focus on Graph Neural Network, HyperGraph as a generalization method<br>\n",
    "- Computer Vision Engineer | [KPMG Korea Lighthouse](https://advisory-marketing.us.kpmg.com/lighthouse/index.html) (Jul 2022 – Sep 2022)<br>\n",
    "    - Study 'Recognize absolute direction in CNN: Direction embedding and its effects<br>\n",
    "    - Bring TDD by using PyTest and complete the DB integrity test.<br>\n",
    "- Artificial Intelligence Lecturer | [Goorm, Korean Code Fair 2021](https://kcf.or.kr/) (Dec 2021 - Jan 2022)<br>\n",
    "- Teaching Assistant | [HUFS AI Education Institution](https://soft.hufs.ac.kr/) (Mar 2021 – Dec 2021)<br>\n",
    "\n",
    ":::"
   ]
  },
  {
   "cell_type": "markdown",
   "metadata": {},
   "source": [
    "<br>"
   ]
  },
  {
   "cell_type": "markdown",
   "metadata": {},
   "source": [
    "\n",
    ":::{.column-page-inset}\n",
    "\n",
    "\n",
    "### Education\n",
    "\n",
    "---\n",
    "\n",
    "Hankook University of Foreign Studies / B.S. of Computer Engineering (2020.03 - Present)\n",
    "\n",
    ":::"
   ]
  },
  {
   "cell_type": "markdown",
   "metadata": {},
   "source": [
    "<br>"
   ]
  },
  {
   "cell_type": "markdown",
   "metadata": {},
   "source": [
    "\n",
    ":::{.column-page-inset}\n",
    "\n",
    "### Honors & Publication\n",
    "---\n",
    "\n",
    "- KPMG Ideation Challenge 2022 - 1st place (KPMG Korea, 2022)\n",
    "- Data driven Artificial Intelligence Service Contest - 3rd place (NIA, 2021)\n",
    "- 6th Korea Scholar's Conference for Youth (Asan Nanum Foundation, 2016)\n",
    "- 22th Humantech Paper Awards - 3rd place (Samsung, 2016)\n",
    "\n",
    "Several awards from Idea challenges, Hackathons\n",
    "\n",
    ":::"
   ]
  },
  {
   "cell_type": "markdown",
   "metadata": {},
   "source": [
    "<br>"
   ]
  },
  {
   "cell_type": "markdown",
   "metadata": {},
   "source": [
    "\n",
    ":::{.column-page-inset}\n",
    "\n",
    "### Patent\n",
    "\n",
    "---\n",
    "\n",
    "- SURVEILLANCE CAMERA USING A RETROREFLECTIVE SHEET - KR101621715B1 (Mar, 2016)\n",
    "- OPTICAL MICROSCOPE USING A RETROREFLECTIVE SHEET AND ITS OPERATION METHOD - KR101608942B1 (Apr, 2016)\n",
    "\n",
    ":::"
   ]
  },
  {
   "cell_type": "markdown",
   "metadata": {},
   "source": [
    "<br>"
   ]
  },
  {
   "cell_type": "markdown",
   "metadata": {},
   "source": [
    "\n",
    ":::{.column-page-inset}\n",
    "\n",
    "### Volunteering\n",
    "\n",
    "---\n",
    "\n",
    "- High School CA Software mentoring (Mar 2022 – Dec 2023)\n",
    "- Retail Tech Programming Class with Shinsegae I&C (Mar 2022 – Jul 2022)\n",
    "\n",
    "\n",
    ":::"
   ]
  },
  {
   "cell_type": "markdown",
   "metadata": {},
   "source": [
    "<br>"
   ]
  },
  {
   "cell_type": "markdown",
   "metadata": {},
   "source": [
    "\n",
    ":::{.column-page-inset}\n",
    "\n",
    "### Additional Information\n",
    "\n",
    "---\n",
    "\n",
    "- Core member of Campus union web programming circle; LIKELION (2020 - 2023)\n",
    "    - Leader at 2021\n",
    "- Organized in-campus programming camp; HUFS Missing Semester (2021 - 2022)\n",
    "\n",
    ":::"
   ]
  },
  {
   "cell_type": "markdown",
   "metadata": {},
   "source": [
    "<br>"
   ]
  },
  {
   "cell_type": "markdown",
   "metadata": {},
   "source": [
    "\n",
    ":::{.column-page-inset}\n",
    "\n",
    "### Qualifications\n",
    "\n",
    "---\n",
    "\n",
    "- English B2\n",
    "    - IELTS (expired) overall 6.0\n",
    "\n",
    "\n",
    ":::"
   ]
  },
  {
   "cell_type": "markdown",
   "metadata": {},
   "source": [
    "<br>"
   ]
  },
  {
   "cell_type": "markdown",
   "metadata": {},
   "source": [
    "### &nbsp;&nbsp;&nbsp;&nbsp;"
   ]
  },
  {
   "cell_type": "markdown",
   "metadata": {},
   "source": []
  }
 ],
 "metadata": {
  "kernelspec": {
   "display_name": "Python 3 (ipykernel)",
   "language": "python",
   "name": "python3"
  },
  "language_info": {
   "codemirror_mode": {
    "name": "ipython",
    "version": 3
   },
   "file_extension": ".py",
   "mimetype": "text/x-python",
   "name": "python",
   "nbconvert_exporter": "python",
   "pygments_lexer": "ipython3",
   "version": "3.9.7"
  }
 },
 "nbformat": 4,
 "nbformat_minor": 4
}
