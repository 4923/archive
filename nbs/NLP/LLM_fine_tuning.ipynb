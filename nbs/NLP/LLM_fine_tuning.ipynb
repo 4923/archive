{
 "cells": [
  {
   "attachments": {},
   "cell_type": "markdown",
   "metadata": {},
   "source": [
    "---\n",
    "title: PFET\n",
    "subtitle: LLM Parameter Efficient Fine Tuning\n",
    "description: LLM의 파라미터는 일일이 조정하기엔 지나치게 많다. 어떻게 fine tuning 할 수 있을까?\n",
    "categories:\n",
    "    - NLP\n",
    "author: YeEun Hong\n",
    "date: 2023.10.11\n",
    "---"
   ]
  },
  {
   "attachments": {},
   "cell_type": "markdown",
   "metadata": {},
   "source": []
  }
 ],
 "metadata": {
  "kernelspec": {
   "display_name": "base",
   "language": "python",
   "name": "python3"
  },
  "language_info": {
   "codemirror_mode": {
    "name": "ipython",
    "version": 3
   },
   "file_extension": ".py",
   "mimetype": "text/x-python",
   "name": "python",
   "nbconvert_exporter": "python",
   "pygments_lexer": "ipython3",
   "version": "3.9.7"
  },
  "orig_nbformat": 4
 },
 "nbformat": 4,
 "nbformat_minor": 2
}
