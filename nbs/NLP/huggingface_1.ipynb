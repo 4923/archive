{
 "cells": [
  {
   "cell_type": "markdown",
   "metadata": {},
   "source": [
    "---\n",
    "title: huggingface pretrained model\n",
    "subtitle: huggingface 알아보기 (1)\n",
    "description: huggingface의 사전학습 모델을 어떻게 사용할 수 있을까?\n",
    "categories:\n",
    "    - NLP\n",
    "author: YeEun Hong\n",
    "date: 2023.10.17\n",
    "---"
   ]
  },
  {
   "cell_type": "markdown",
   "metadata": {},
   "source": []
  }
 ],
 "metadata": {
  "language_info": {
   "name": "python"
  },
  "orig_nbformat": 4
 },
 "nbformat": 4,
 "nbformat_minor": 2
}
