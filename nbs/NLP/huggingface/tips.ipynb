{
 "cells": [
  {
   "cell_type": "markdown",
   "metadata": {},
   "source": [
    "---\n",
    "title: tips\n",
    "subtitle: huggingface 알아보기 (1)\n",
    "description: huggingface의 사전학습 모델을 어떻게 사용할 수 있을까?\n",
    "categories:\n",
    "    - NLP\n",
    "    - huggingface\n",
    "author: YeEun Hong\n",
    "date: 2023.10.17\n",
    "---"
   ]
  },
  {
   "cell_type": "markdown",
   "metadata": {},
   "source": []
  },
  {
   "cell_type": "markdown",
   "metadata": {},
   "source": [
    "### 다운로드 받은 모델 삭제하는 방법 (cache cli에서 지우기)\n",
    "\n",
    "```\n",
    "➜ huggingface-cli scan-cache\n",
    "REPO ID                     REPO TYPE SIZE ON DISK NB FILES LAST_ACCESSED LAST_MODIFIED REFS                LOCAL PATH\n",
    "--------------------------- --------- ------------ -------- ------------- ------------- ------------------- -------------------------------------------------------------------------\n",
    "glue                        dataset         116.3K       15 4 days ago    4 days ago    2.4.0, main, 1.17.0 /home/wauplin/.cache/huggingface/hub/datasets--glue\n",
    "google/fleurs               dataset          64.9M        6 1 week ago    1 week ago    refs/pr/1, main     /home/wauplin/.cache/huggingface/hub/datasets--google--fleurs\n",
    "Jean-Baptiste/camembert-ner model           441.0M        7 2 weeks ago   16 hours ago  main                /home/wauplin/.cache/huggingface/hub/models--Jean-Baptiste--camembert-ner\n",
    "bert-base-cased             model             1.9G       13 1 week ago    2 years ago                       /home/wauplin/.cache/huggingface/hub/models--bert-base-cased\n",
    "t5-base                     model            10.1K        3 3 months ago  3 months ago  main                /home/wauplin/.cache/huggingface/hub/models--t5-base\n",
    "t5-small                    model           970.7M       11 3 days ago    3 days ago    refs/pr/1, main     /home/wauplin/.cache/huggingface/hub/models--t5-small\n",
    "\n",
    "Done in 0.0s. Scanned 6 repo(s) for a total of 3.4G.\n",
    "Got 1 warning(s) while scanning. Use -vvv to print details.\n",
    "```\n",
    "\n",
    "삭제 : `rm -r {LOCAL PATH}`\n",
    "\n",
    "\n",
    "ref : [https://huggingface.co/docs/huggingface_hub/guides/manage-cache](https://huggingface.co/docs/huggingface_hub/guides/manage-cache)"
   ]
  },
  {
   "cell_type": "markdown",
   "metadata": {},
   "source": []
  }
 ],
 "metadata": {
  "language_info": {
   "name": "python"
  },
  "orig_nbformat": 4
 },
 "nbformat": 4,
 "nbformat_minor": 2
}
