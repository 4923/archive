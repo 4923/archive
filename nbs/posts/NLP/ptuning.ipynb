{
 "cells": [
  {
   "attachments": {},
   "cell_type": "markdown",
   "metadata": {},
   "source": [
    "---\n",
    "title-block-banner: true\n",
    "title: p tuning\n",
    "subtitle: PEFT; p tuning\n",
    "description: \"P-tuning is a method for automatically searching and optimizing for better prompts in a continuous space.\"\n",
    "categories:\n",
    "    - NLP\n",
    "    - LLM\n",
    "    - technique\n",
    "date: 2023/10/15\n",
    "---"
   ]
  },
  {
   "attachments": {},
   "cell_type": "markdown",
   "metadata": {},
   "source": []
  },
  {
   "cell_type": "code",
   "execution_count": null,
   "metadata": {
    "vscode": {
     "languageId": "plaintext"
    }
   },
   "outputs": [],
   "source": []
  },
  {
   "cell_type": "markdown",
   "metadata": {
    "vscode": {
     "languageId": "plaintext"
    }
   },
   "source": [
    "#### p tuning\n",
    "    \n",
    "\"P-tuning is a method for automatically searching and optimizing for better prompts in a continuous space.\"\n",
    "    \n",
    "- PLM의 일부 가중치만 미세조정하여 `continuous prompt emobedding`만 tuninng한다."
   ]
  },
  {
   "cell_type": "markdown",
   "metadata": {},
   "source": [
    "#### Reference\n",
    "\n",
    "- [https://huggingface.co/blog/peft](https://huggingface.co/blog/peft)\n"
   ]
  },
  {
   "cell_type": "markdown",
   "metadata": {},
   "source": []
  }
 ],
 "metadata": {
  "kernelspec": {
   "display_name": "base",
   "language": "python",
   "name": "python3"
  },
  "language_info": {
   "codemirror_mode": {
    "name": "ipython",
    "version": 3
   },
   "file_extension": ".py",
   "mimetype": "text/x-python",
   "name": "python",
   "nbconvert_exporter": "python",
   "pygments_lexer": "ipython3",
   "version": "3.9.7"
  },
  "orig_nbformat": 4
 },
 "nbformat": 4,
 "nbformat_minor": 2
}
