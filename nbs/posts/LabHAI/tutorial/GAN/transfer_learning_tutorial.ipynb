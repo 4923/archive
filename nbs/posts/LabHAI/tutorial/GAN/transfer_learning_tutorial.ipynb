{
 "cells": [
  {
   "cell_type": "markdown",
   "metadata": {},
   "source": [
    "---\n",
    "title-block-banner: true\n",
    "title: GAN tutorial\n",
    "subtitle: Generating Adversarial Example \n",
    "description: 빠트린 배경지식이 있을 시 보충한다.\n",
    "categories:\n",
    "    - PyTorch\n",
    "    - computer vision\n",
    "    - tutorial\n",
    "\n",
    "toc: false      # 코드 영역때문에 페이지가 답답함\n",
    "reference-location: document    # callout에서 사용하는 각주가 너무 많다.\n",
    "---"
   ]
  },
  {
   "cell_type": "markdown",
   "metadata": {},
   "source": [
    "> FGSM^[Fast Gradient Sign Attack] 으로 MNIST를 속여보자.\n",
    "\n",
    "- 입력 데이터에 최소한의 변화를 추가하여 '잘못 분류되게 하는 것'이 공격자의 목표다.\n",
    "- 공격의 종류\n",
    "    - 화이트박스: 공격자가 모델의 구조 (입출력, 가중치) 모두를 알고 접근할 수 있다고 가정한다.\n",
    "    - 블랙박스: 공격자가 모델의 입력과 출력단에 접근 가능하고, 모델의 내부는 모른다고 가정한다.\n",
    "\n",
    "여기서 FGSM은 *오분류*를 목표로 하는 화이트박스 공격이다."
   ]
  },
  {
   "cell_type": "markdown",
   "metadata": {},
   "source": [
    "### FGSM\n",
    "\n",
    "> 역전파에서 가중치를 조정하여 손실을 '최**대**화' 하도록 입력 데이터를 조정한다."
   ]
  },
  {
   "cell_type": "markdown",
   "metadata": {},
   "source": [
    "![example](https://tutorials.pytorch.kr/_images/fgsm_panda_image.png)\n",
    "\n",
    "![image](https://github.com/dotpyo/archive/assets/60145951/adf238c7-f050-4e4d-9a02-04fe806e558a)\n",
    "\n",
    "<img src=\"https://github.com/dotpyo/archive/assets/60145951/4268c648-57b6-4118-9224-6b6efcb2fa46\" width=100%>\n"
   ]
  },
  {
   "cell_type": "markdown",
   "metadata": {},
   "source": []
  }
 ],
 "metadata": {
  "kernelspec": {
   "display_name": "lhai-py310",
   "language": "python",
   "name": "python3"
  },
  "language_info": {
   "codemirror_mode": {
    "name": "ipython",
    "version": 3
   },
   "file_extension": ".py",
   "mimetype": "text/x-python",
   "name": "python",
   "nbconvert_exporter": "python",
   "pygments_lexer": "ipython3",
   "version": "3.10.13"
  }
 },
 "nbformat": 4,
 "nbformat_minor": 2
}
