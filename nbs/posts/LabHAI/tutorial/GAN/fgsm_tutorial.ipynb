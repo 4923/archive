{
 "cells": [
  {
   "cell_type": "markdown",
   "metadata": {},
   "source": [
    "---\n",
    "title-block-banner: true\n",
    "title: fgsm tutorial\n",
    "subtitle: Generating Adversarial Example \n",
    "description: 빠트린 배경지식이 있을 시 보충한다.\n",
    "categories:\n",
    "    - PyTorch\n",
    "    - computer vision\n",
    "    - tutorial\n",
    "date: 2024/03/08\n",
    "\n",
    "toc: false      # 코드 영역때문에 페이지가 답답함\n",
    "reference-location: document    # callout에서 사용하는 각주가 너무 많다.\n",
    "---"
   ]
  },
  {
   "cell_type": "markdown",
   "metadata": {},
   "source": [
    "> FGSM^[Fast Gradient Sign Attack] 으로 MNIST를 속여보자.\n",
    "\n",
    "- 입력 데이터에 최소한의 변화를 추가하여 '잘못 분류되게 하는 것'이 공격자의 목표다.\n",
    "- 공격의 종류\n",
    "    - 화이트박스: 공격자가 모델의 구조 (입출력, 가중치) 모두를 알고 접근할 수 있다고 가정한다.\n",
    "    - 블랙박스: 공격자가 모델의 입력과 출력단에 접근 가능하고, 모델의 내부는 모른다고 가정한다.\n",
    "\n",
    "여기서 FGSM은 *오분류*를 목표로 하는 화이트박스 공격이다."
   ]
  },
  {
   "cell_type": "markdown",
   "metadata": {},
   "source": [
    "### FGSM\n",
    "\n",
    "> 역전파에서 가중치를 조정하여 손실을 '최**대**화' 하도록 입력 데이터를 조정한다."
   ]
  },
  {
   "cell_type": "markdown",
   "metadata": {},
   "source": [
    "![fgsm_panda_image](https://github.com/dotpyo/archive/assets/60145951/adf238c7-f050-4e4d-9a02-04fe806e558a)"
   ]
  },
  {
   "cell_type": "markdown",
   "metadata": {},
   "source": [
    "### 구현"
   ]
  },
  {
   "cell_type": "code",
   "execution_count": 2,
   "metadata": {},
   "outputs": [],
   "source": [
    "from __future__ import print_function\n",
    "import torch\n",
    "import torch.nn as nn\n",
    "import torch.nn.functional as F\n",
    "import torch.optim as optim\n",
    "from torchvision import datasets, transforms\n",
    "import numpy as np\n",
    "import matplotlib.pyplot as plt\n",
    "\n",
    "# 출처: fgsm tutorial 공식 colab\n",
    "# NOTE: 아래는 MNIST 데이터셋을 내려받을 때 \"User-agent\" 관련한 제한을 푸는 코드입니다.\n",
    "#       더 자세한 내용은 https://github.com/pytorch/vision/issues/3497 을 참고해주세요.\n",
    "from six.moves import urllib\n",
    "opener = urllib.request.build_opener()\n",
    "opener.addheaders = [('User-agent', 'Mozilla/5.0')]\n",
    "urllib.request.install_opener(opener)"
   ]
  },
  {
   "cell_type": "markdown",
   "metadata": {},
   "source": [
    "1. 입력 매개변수를 파악한다.\n",
    "2. 공격할, 공격 중인 모델을 정의한다.\n",
    "3. 공격, 테스트를 진행한다."
   ]
  },
  {
   "cell_type": "markdown",
   "metadata": {},
   "source": [
    "#### 입력 매개변수"
   ]
  },
  {
   "cell_type": "code",
   "execution_count": 3,
   "metadata": {},
   "outputs": [],
   "source": [
    "# 1. 실행에 사용할 엡실론 리스트. 0값은 원래 테스트 셋의 모델 성능이므로 반드시 포함시켜야 한다.\n",
    "# 엡실론이 클수록 모델 정확도를 저하시키는데 효과가 있으며 값은 0~1 사이다.\n",
    "epsilons:list = [0, .05, .1, .15, .2, .25, .3]\n",
    "\n",
    "# 2. MNIST 모델을 사용한다.\n",
    "pretrained_model:str = \"data/lenet_mnist_model.pth\"\n",
    "\n",
    "# 3. 이 튜토리얼에선 학습 시간 오래 걸리지 않으므로 CPU 써도 무관하다.\n",
    "use_cuda=False"
   ]
  },
  {
   "cell_type": "markdown",
   "metadata": {},
   "source": [
    "### 공격을 받는 모델"
   ]
  },
  {
   "cell_type": "markdown",
   "metadata": {},
   "source": [
    "MNIST 예제에서 복사해온다.\n",
    "- 모델과 데이터로더 정의\n",
    "- 모델 초기화\n",
    "- 학습된 가중치 로드\n"
   ]
  },
  {
   "cell_type": "code",
   "execution_count": 5,
   "metadata": {},
   "outputs": [
    {
     "name": "stdout",
     "output_type": "stream",
     "text": [
      "CUDA Available:  False\n"
     ]
    },
    {
     "data": {
      "text/plain": [
       "Net(\n",
       "  (conv1): Conv2d(1, 10, kernel_size=(5, 5), stride=(1, 1))\n",
       "  (conv2): Conv2d(10, 20, kernel_size=(5, 5), stride=(1, 1))\n",
       "  (conv2_drop): Dropout2d(p=0.5, inplace=False)\n",
       "  (fc1): Linear(in_features=320, out_features=50, bias=True)\n",
       "  (fc2): Linear(in_features=50, out_features=10, bias=True)\n",
       ")"
      ]
     },
     "execution_count": 5,
     "metadata": {},
     "output_type": "execute_result"
    }
   ],
   "source": [
    "# LeNet 모델 정의\n",
    "class Net(nn.Module):\n",
    "    # 네트워크 구조 정의\n",
    "    def __init__(self):\n",
    "        super(Net, self).__init__()\n",
    "        self.conv1 = nn.Conv2d(1, 10, kernel_size=5)\n",
    "        self.conv2 = nn.Conv2d(10, 20, kernel_size=5)\n",
    "        self.conv2_drop = nn.Dropout2d()\n",
    "        self.fc1 = nn.Linear(320, 50)\n",
    "        self.fc2 = nn.Linear(50, 10)\n",
    "\n",
    "    # 학습 방법 정의\n",
    "    def forward(self, x):\n",
    "        x = F.relu(F.max_pool2d(self.conv1(x), 2))\n",
    "        x = F.relu(F.max_pool2d(self.conv2_drop(self.conv2(x)), 2))\n",
    "        x = x.view(-1, 320)\n",
    "        x = F.relu(self.fc1(x))\n",
    "        x = F.dropout(x, training=self.training)\n",
    "        x = self.fc2(x)\n",
    "        return F.log_softmax(x, dim=1)\n",
    "\n",
    "# MNIST 테스트 데이터셋과 데이터로더 선언\n",
    "test_loader = torch.utils.data.DataLoader(\n",
    "    datasets.MNIST('../data', train=False, download=True, transform=transforms.Compose([\n",
    "            transforms.ToTensor(),\n",
    "            ])),\n",
    "        batch_size=1, shuffle=True)\n",
    "\n",
    "# 어떤 디바이스를 사용할지 정의 >> CPU 사용 예정\n",
    "print(\"CUDA Available: \",torch.cuda.is_available())\n",
    "device = torch.device(\"cuda\" if (use_cuda and torch.cuda.is_available()) else \"cpu\")\n",
    "\n",
    "# 모델 초기화하기\n",
    "model = Net().to(device)\n",
    "\n",
    "# 미리 학습된 모델 읽어오기\n",
    "model.load_state_dict(torch.load(pretrained_model, map_location='cpu'))\n",
    "\n",
    "# 모델을 평가 모드로 설정하기. 드롭아웃 레이어들을 위해 사용됨\n",
    "model.eval()"
   ]
  },
  {
   "cell_type": "markdown",
   "metadata": {},
   "source": [
    "### FGSM 공격"
   ]
  },
  {
   "cell_type": "markdown",
   "metadata": {},
   "source": [
    "- `fgsm_attack` 함수를 만들어 사용하는데, 이때 입력 파라미터로 위에서 정의한 값들을 넣는다.\n",
    "\n",
    "1. 원본 이미지 $x$\n",
    "2. epsilon; pixel 단위의 변화 $\\epsilon$\n",
    "3. data_grad; 입력 영상에 대한 변화도 손실값"
   ]
  },
  {
   "cell_type": "code",
   "execution_count": 6,
   "metadata": {},
   "outputs": [],
   "source": [
    "# FGSM 공격 코드\n",
    "def fgsm_attack(image, epsilon, data_grad):\n",
    "    # data_grad 의 요소별 부호 값을 얻어옵니다\n",
    "    sign_data_grad = data_grad.sign()\n",
    "    # 입력 이미지의 각 픽셀에 sign_data_grad 를 적용해 작은 변화가 적용된 이미지를 생성합니다\n",
    "    perturbed_image = image + epsilon*sign_data_grad\n",
    "    # 값 범위를 [0,1]로 유지하기 위해 자르기(clipping)를 추가합니다\n",
    "    perturbed_image = torch.clamp(perturbed_image, 0, 1)\n",
    "    # 작은 변화가 적용된 이미지를 리턴합니다\n",
    "    return perturbed_image"
   ]
  },
  {
   "cell_type": "markdown",
   "metadata": {},
   "source": [
    "### 테스트 (*)"
   ]
  },
  {
   "cell_type": "markdown",
   "metadata": {},
   "source": [
    "테스트 기능을 호출할 때마다 \n",
    "1. 데이터셋에서 전체 테스트 단계를 수행한 후\n",
    "2. 최종 정확도를 보고한다.\n",
    "\n",
    "- 여기서도 $\\epsilon$ 을 사용하는데, 테스트 함수가 이에 따라 모델의 정확도를 보고하기 때문이다. (픽셀단위의 변화이므로)\n",
    "- 공격을 받은 이미지가 작은 변화가 적용된 이미지를 확인한 후 >> 그 이미지의 변화가 **적대적**인지 확인한다."
   ]
  },
  {
   "cell_type": "code",
   "execution_count": 7,
   "metadata": {},
   "outputs": [],
   "source": [
    "def test( model, device, test_loader, epsilon ):\n",
    "\n",
    "    # 정확도 카운터\n",
    "    correct = 0\n",
    "    adv_examples = []\n",
    "\n",
    "    # 테스트 셋의 모든 예제에 대해 루프를 돕니다\n",
    "    for data, target in test_loader:\n",
    "\n",
    "        # 디바이스(CPU or GPU) 에 데이터와 라벨 값을 보냅니다\n",
    "        data, target = data.to(device), target.to(device)\n",
    "\n",
    "        # 텐서의 속성 중 requires_grad 를 설정합니다. 공격에서 중요한 부분입니다 >> 증가시켜야하므로\n",
    "        data.requires_grad = True\n",
    "\n",
    "        # 데이터를 모델에 통과시킵니다\n",
    "        output = model(data)\n",
    "        init_pred = output.max(1, keepdim=True)[1] # 로그 확률의 최대값을 가지는 인덱스를 얻습니다\n",
    "\n",
    "        # 만약 초기 예측이 틀리면, 공격하지 않도록 하고 계속 진행합니다\n",
    "        if init_pred.item() != target.item():\n",
    "            continue\n",
    "\n",
    "        # 손실을 계산합니다\n",
    "        loss = F.nll_loss(output, target)\n",
    "\n",
    "        # 모델의 변화도들을 전부 0으로 설정합니다\n",
    "        model.zero_grad()\n",
    "\n",
    "        # 후방 전달을 통해 모델의 변화도를 계산합니다\n",
    "        loss.backward()\n",
    "\n",
    "        # 변화도 값을 모읍니다\n",
    "        data_grad = data.grad.data\n",
    "\n",
    "        # FGSM 공격을 호출합니다\n",
    "        perturbed_data = fgsm_attack(data, epsilon, data_grad)\n",
    "\n",
    "        # 작은 변화가 적용된 이미지에 대해 재분류합니다\n",
    "        output = model(perturbed_data)\n",
    "\n",
    "        # 올바른지 확인합니다\n",
    "        final_pred = output.max(1, keepdim=True)[1] # 로그 확률의 최대값을 가지는 인덱스를 얻습니다\n",
    "        if final_pred.item() == target.item():\n",
    "            correct += 1\n",
    "            # 0 엡실론 예제에 대해서 저장합니다\n",
    "            if (epsilon == 0) and (len(adv_examples) < 5):\n",
    "                adv_ex = perturbed_data.squeeze().detach().cpu().numpy()\n",
    "                adv_examples.append( (init_pred.item(), final_pred.item(), adv_ex) )\n",
    "        else:\n",
    "            # 추후 시각화를 위하 다른 예제들을 저장합니다\n",
    "            if len(adv_examples) < 5:\n",
    "                adv_ex = perturbed_data.squeeze().detach().cpu().numpy()\n",
    "                adv_examples.append( (init_pred.item(), final_pred.item(), adv_ex) )\n",
    "\n",
    "    # 해당 엡실론에서의 최종 정확도를 계산합니다\n",
    "    final_acc = correct/float(len(test_loader))\n",
    "    print(\"Epsilon: {}\\tTest Accuracy = {} / {} = {}\".format(epsilon, correct, len(test_loader), final_acc))\n",
    "\n",
    "    # 정확도와 적대적 예제를 리턴합니다\n",
    "    return final_acc, adv_examples"
   ]
  },
  {
   "cell_type": "markdown",
   "metadata": {},
   "source": [
    "### 공격 실행"
   ]
  },
  {
   "cell_type": "code",
   "execution_count": 8,
   "metadata": {},
   "outputs": [
    {
     "name": "stdout",
     "output_type": "stream",
     "text": [
      "Epsilon: 0\tTest Accuracy = 9810 / 10000 = 0.981\n",
      "Epsilon: 0.05\tTest Accuracy = 9426 / 10000 = 0.9426\n",
      "Epsilon: 0.1\tTest Accuracy = 8510 / 10000 = 0.851\n",
      "Epsilon: 0.15\tTest Accuracy = 6826 / 10000 = 0.6826\n",
      "Epsilon: 0.2\tTest Accuracy = 4301 / 10000 = 0.4301\n",
      "Epsilon: 0.25\tTest Accuracy = 2082 / 10000 = 0.2082\n",
      "Epsilon: 0.3\tTest Accuracy = 869 / 10000 = 0.0869\n"
     ]
    }
   ],
   "source": [
    "accuracies = []\n",
    "examples = []\n",
    "\n",
    "# 각 엡실론에 대해 테스트 함수를 실행합니다\n",
    "for eps in epsilons:\n",
    "    acc, ex = test(model, device, test_loader, eps)\n",
    "    accuracies.append(acc)\n",
    "    examples.append(ex)"
   ]
  },
  {
   "cell_type": "markdown",
   "metadata": {},
   "source": [
    "### 결과"
   ]
  },
  {
   "cell_type": "markdown",
   "metadata": {},
   "source": [
    "시각화를 진행한다.\n",
    "\n",
    "> 엡실론이 증가함에 따라 테스트 정확도가 감소해야 한다.\n",
    "\n",
    "$\\therefore$ 엡실론 값이 선형적이더라도 곡선의 추세는 선형적이지 않다."
   ]
  },
  {
   "cell_type": "code",
   "execution_count": 9,
   "metadata": {},
   "outputs": [
    {
     "data": {
      "image/png": "[encoded data removed]",
      "text/plain": [
       "<Figure size 500x500 with 1 Axes>"
      ]
     },
     "metadata": {},
     "output_type": "display_data"
    }
   ],
   "source": [
    "plt.figure(figsize=(5,5))\n",
    "plt.plot(epsilons, accuracies, \"*-\")\n",
    "plt.yticks(np.arange(0, 1.1, step=0.1))\n",
    "plt.xticks(np.arange(0, .35, step=0.05))\n",
    "plt.title(\"Accuracy vs Epsilon\")\n",
    "plt.xlabel(\"Epsilon\")\n",
    "plt.ylabel(\"Accuracy\")\n",
    "plt.show()"
   ]
  },
  {
   "cell_type": "markdown",
   "metadata": {},
   "source": [
    "### 문제"
   ]
  },
  {
   "cell_type": "markdown",
   "metadata": {},
   "source": [
    "- 엡실론이 증가할수록 정확도는 떨어지지만: 작은 변화는 더 쉽게 인식한다.\n",
    "- 노이즈가 추가되었더라도 작은 객체는 제대로 선별할 수 있는 경우도 있다."
   ]
  }
 ],
 "metadata": {
  "kernelspec": {
   "display_name": "lhai-py310",
   "language": "python",
   "name": "python3"
  },
  "language_info": {
   "codemirror_mode": {
    "name": "ipython",
    "version": 3
   },
   "file_extension": ".py",
   "mimetype": "text/x-python",
   "name": "python",
   "nbconvert_exporter": "python",
   "pygments_lexer": "ipython3",
   "version": "3.10.13"
  }
 },
 "nbformat": 4,
 "nbformat_minor": 2
}
