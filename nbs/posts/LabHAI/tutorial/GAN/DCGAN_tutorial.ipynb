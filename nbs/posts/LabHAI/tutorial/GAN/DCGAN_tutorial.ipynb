{
 "cells": [
  {
   "cell_type": "markdown",
   "metadata": {},
   "source": [
    "---\n",
    "title-block-banner: true\n",
    "title: DCGAN face tutorial\n",
    "subtitle: Generating Adversarial Example \n",
    "description: 실제 유명인들의 사진들로 적대적 생성 신경망(GAN)을 학습시켜, 새로운 유명인의 사진을 만든다.\n",
    "categories:\n",
    "    - PyTorch\n",
    "    - computer vision\n",
    "    - tutorial\n",
    "date: 2024-03-10\n",
    "author: dotpyo\n",
    "\n",
    "toc: false      # 코드 영역때문에 페이지가 답답함\n",
    "reference-location: document    # callout에서 사용하는 각주가 너무 많다.\n",
    "---"
   ]
  },
  {
   "cell_type": "markdown",
   "metadata": {},
   "source": [
    "## GAN?"
   ]
  },
  {
   "cell_type": "markdown",
   "metadata": {},
   "source": []
  }
 ],
 "metadata": {
  "language_info": {
   "name": "python"
  }
 },
 "nbformat": 4,
 "nbformat_minor": 2
}
