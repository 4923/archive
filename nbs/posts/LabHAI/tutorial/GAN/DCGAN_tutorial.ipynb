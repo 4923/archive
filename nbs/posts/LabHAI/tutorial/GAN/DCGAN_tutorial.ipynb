{
 "cells": [
  {
   "cell_type": "markdown",
   "metadata": {},
   "source": [
    "---\n",
    "title-block-banner: true\n",
    "title: DCGAN face tutorial\n",
    "subtitle: Generating Adversarial Example \n",
    "description: 실제 유명인들의 사진들로 적대적 생성 신경망(GAN)을 학습시켜, 새로운 유명인의 사진을 만든다.\n",
    "categories:\n",
    "    - PyTorch\n",
    "    - computer vision\n",
    "    - tutorial\n",
    "\n",
    "toc: false      # 코드 영역때문에 페이지가 답답함\n",
    "reference-location: document    # callout에서 사용하는 각주가 너무 많다.\n",
    "---"
   ]
  },
  {
   "cell_type": "markdown",
   "metadata": {},
   "source": [
    "## GAN?"
   ]
  },
  {
   "cell_type": "markdown",
   "metadata": {},
   "source": [
    "1. 학습 데이터들의 *분포*를 학습해\n",
    "2. 새로운 데이터를 *생성*\n",
    "\n",
    "- 생성자와 구분자로 구별되는 두 모델을 가지고 있다.\n",
    "    - 생성자: 실제 이미지와 유사한 정교한 이미지 생성\n",
    "    - 구분자: 실제 이미지인지 생성자의 이미지인지 판별\n",
    "- 생성자와 구분자의 상호작용을 통해 실제와 같은 이미지를 만들어낸다.\n",
    "- 구분자가 생성자의 이미지 중 50%를 제대로 판별할 때 *균형상태*에 도달했다고 말한다."
   ]
  },
  {
   "cell_type": "markdown",
   "metadata": {},
   "source": []
  }
 ],
 "metadata": {
  "kernelspec": {
   "display_name": "lhai-py310",
   "language": "python",
   "name": "python3"
  },
  "language_info": {
   "name": "python",
   "version": "3.10.13"
  }
 },
 "nbformat": 4,
 "nbformat_minor": 2
}
